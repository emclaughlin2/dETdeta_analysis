{
 "cells": [
  {
   "cell_type": "code",
   "execution_count": null,
   "id": "06759fa4-cd45-497e-a22f-528ac83e089c",
   "metadata": {},
   "outputs": [],
   "source": [
    "import ROOT\n",
    "from ROOT import TCanvas, TFile, TProfile, TNtuple, TH1I, TH1F, TH2F, TH3F, TColor, TEfficiency\n",
    "from ROOT import gROOT, gBenchmark, gRandom, gSystem\n",
    "import numpy as np\n",
    "import pdb\n",
    "from array import array"
   ]
  },
  {
   "cell_type": "code",
   "execution_count": 2,
   "id": "74e1b12c-2733-49b3-b5cd-73617d37b7bb",
   "metadata": {},
   "outputs": [
    {
     "name": "stdout",
     "output_type": "stream",
     "text": [
      "/direct/sphenix+u/egm2153/spring_2023\n"
     ]
    },
    {
     "name": "stderr",
     "output_type": "stream",
     "text": [
      "/cvmfs/sphenix.sdcc.bnl.gov/alma9.2-gcc-14.2.0/opt/sphenix/core/lib/python3.13/site-packages/IPython/core/magics/osm.py:417: UserWarning: This is now an optional IPython functionality, setting dhist requires you to install the `pickleshare` library.\n",
      "  self.shell.db['dhist'] = compress_dhist(dhist)[-100:]\n"
     ]
    },
    {
     "data": {
      "text/plain": [
       "0"
      ]
     },
     "execution_count": 2,
     "metadata": {},
     "output_type": "execute_result"
    },
    {
     "name": "stdout",
     "output_type": "stream",
     "text": [
      "sPhenixStyle: Applying nominal settings.\n",
      "sPhenixStyle: ROOT6 mode\n"
     ]
    }
   ],
   "source": [
    "%cd /sphenix/u/egm2153/spring_2023\n",
    "gROOT.LoadMacro(\"sPhenixStyle.C\");\n",
    "gROOT.ProcessLine(\"SetsPhenixStyle()\")"
   ]
  },
  {
   "cell_type": "code",
   "execution_count": null,
   "id": "0cadf0fc-e613-4377-a5a3-131a6d0cba10",
   "metadata": {},
   "outputs": [],
   "source": [
    "%cd /sphenix/user/egm2153/calib_study/detdeta/analysis/Run2024"
   ]
  },
  {
   "cell_type": "code",
   "execution_count": 4,
   "id": "e6417acd-3c0f-4f6a-98aa-92ccb18d8489",
   "metadata": {},
   "outputs": [],
   "source": [
    "cents = ['0-5', '5-10', '10-20', '20-30', '30-40', '40-50', '50-60']\n",
    "cent_size = [5,5,10,10,10,10,10]\n",
    "h_mbd = []\n",
    "for i, cent in enumerate(cents):\n",
    "    f = ROOT.TFile.Open(\"fixed_build/dETdeta_analysis_allruns_ana450_2024p009_100_50_50_ZS_hcal_scaled_emcal_calib_iter26_nozs_data_noweight_\"+cent+\".root\")\n",
    "    h_mbd.append(TH1F(f.Get(\"h_mbd\")))\n",
    "    h_mbd[i].SetDirectory(0)\n",
    "    f.Close()"
   ]
  },
  {
   "cell_type": "code",
   "execution_count": 5,
   "id": "eb37150e-bf21-4198-89ac-12a91edfa0de",
   "metadata": {},
   "outputs": [
    {
     "name": "stdout",
     "output_type": "stream",
     "text": [
      "444449.0\n",
      "0-5 0.9850309034332397\n",
      "5-10 1.009789649656091\n",
      "10-20 1.0101676457816307\n",
      "20-30 1.0029722195347497\n",
      "30-40 0.9997322527444092\n",
      "40-50 0.9924018278812641\n",
      "50-60 0.9973157775132804\n"
     ]
    }
   ],
   "source": [
    "total = 0\n",
    "for i in range(len(h_mbd)):\n",
    "    total += h_mbd[i].GetEntries()\n",
    "print(total)\n",
    "for i in range(len(h_mbd)):\n",
    "    print(cents[i], h_mbd[i].GetEntries()/((total/60)*cent_size[i]))"
   ]
  },
  {
   "cell_type": "code",
   "execution_count": 6,
   "id": "d1adcd06-640b-4895-ad5c-1691228a78b7",
   "metadata": {},
   "outputs": [],
   "source": [
    "cents = ['0-5', '5-10', '10-20', '20-30', '30-40', '40-50', '50-60']\n",
    "cent_size = [5,5,10,10,10,10,10]\n",
    "h_mbd = []\n",
    "for i, cent in enumerate(cents):\n",
    "    f = ROOT.TFile.Open(\"fixed_build/dETdeta_analysis_allruns_ana450_2024p009_54911_nozs_data_noweight_\"+cent+\".root\")\n",
    "    h_mbd.append(TH1F(f.Get(\"h_mbd\")))\n",
    "    h_mbd[i].SetDirectory(0)\n",
    "    f.Close()"
   ]
  },
  {
   "cell_type": "code",
   "execution_count": 7,
   "id": "30b5eaaa-de1a-412c-8adb-bd3d539f4a0a",
   "metadata": {},
   "outputs": [
    {
     "name": "stdout",
     "output_type": "stream",
     "text": [
      "458025.0\n",
      "0-5 0.9657114786310791\n",
      "5-10 1.0239266415588668\n",
      "10-20 1.0041853610610774\n",
      "20-30 1.0056918290486327\n",
      "30-40 1.0028360897330932\n",
      "40-50 0.9987096774193548\n",
      "50-60 0.9937579826428689\n"
     ]
    }
   ],
   "source": [
    "total = 0\n",
    "for i in range(len(h_mbd)):\n",
    "    total += h_mbd[i].GetEntries()\n",
    "print(total)\n",
    "for i in range(len(h_mbd)):\n",
    "    print(cents[i], h_mbd[i].GetEntries()/((total/60)*cent_size[i]))"
   ]
  },
  {
   "cell_type": "code",
   "execution_count": 8,
   "id": "2ec5a268-6f27-4003-82aa-285494b7d7a5",
   "metadata": {},
   "outputs": [],
   "source": [
    "cents = ['0-5', '5-10', '10-20', '20-30', '30-40', '40-50', '50-60']\n",
    "cent_size = [5,5,10,10,10,10,10]\n",
    "h_mbd = []\n",
    "for i, cent in enumerate(cents):\n",
    "    f = ROOT.TFile.Open(\"run_by_run_syst/dETdeta_analysis_allruns_ana450_2024p009_54914_nozs_data_noweight_\"+cent+\".root\")\n",
    "    h_mbd.append(TH1F(f.Get(\"h_mbd\")))\n",
    "    h_mbd[i].SetDirectory(0)\n",
    "    f.Close()"
   ]
  },
  {
   "cell_type": "code",
   "execution_count": 9,
   "id": "4f50b72a-a8c1-4909-b589-4f1fae9c9075",
   "metadata": {},
   "outputs": [
    {
     "name": "stdout",
     "output_type": "stream",
     "text": [
      "389980.0\n",
      "0-5 0.9802964254577157\n",
      "5-10 1.0218985589004563\n",
      "10-20 1.0149289707164468\n",
      "20-30 1.0011744192009846\n",
      "30-40 1.0005743884301759\n",
      "40-50 0.993466331606749\n",
      "50-60 0.9887583978665572\n"
     ]
    }
   ],
   "source": [
    "total = 0\n",
    "for i in range(len(h_mbd)):\n",
    "    total += h_mbd[i].GetEntries()\n",
    "print(total)\n",
    "for i in range(len(h_mbd)):\n",
    "    print(cents[i], h_mbd[i].GetEntries()/((total/60)*cent_size[i]))"
   ]
  },
  {
   "cell_type": "code",
   "execution_count": null,
   "id": "678c71b0-0b83-4e0c-a100-cee6debe3e10",
   "metadata": {},
   "outputs": [],
   "source": []
  },
  {
   "cell_type": "code",
   "execution_count": null,
   "id": "26e4451c-4a5d-455e-a134-769e68fe5b6e",
   "metadata": {},
   "outputs": [],
   "source": []
  },
  {
   "cell_type": "code",
   "execution_count": null,
   "id": "300f7fbc-8ab5-4325-9fb7-5d7e9932f8cb",
   "metadata": {},
   "outputs": [],
   "source": []
  }
 ],
 "metadata": {
  "kernelspec": {
   "display_name": "Python (sPHENIX Alma9)",
   "language": "python",
   "name": "sphenix-python-a9"
  },
  "language_info": {
   "codemirror_mode": {
    "name": "ipython",
    "version": 3
   },
   "file_extension": ".py",
   "mimetype": "text/x-python",
   "name": "python",
   "nbconvert_exporter": "python",
   "pygments_lexer": "ipython3",
   "version": "3.13.0"
  }
 },
 "nbformat": 4,
 "nbformat_minor": 5
}
