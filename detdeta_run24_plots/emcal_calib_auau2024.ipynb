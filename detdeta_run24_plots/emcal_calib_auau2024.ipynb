{
 "cells": [
  {
   "cell_type": "code",
   "execution_count": 1,
   "id": "129cca13-67cd-4bef-8282-ae1ca7049d56",
   "metadata": {},
   "outputs": [],
   "source": [
    "import ROOT\n",
    "import numpy as np\n",
    "from array import array\n",
    "from ROOT import TCanvas, TFile, TProfile, TNtuple, TH1I, TH1F, TH2F, TH3F, TColor, TEfficiency\n",
    "from ROOT import gROOT, gBenchmark, gRandom, gSystem"
   ]
  },
  {
   "cell_type": "code",
   "execution_count": 2,
   "id": "68a90f53-f2b7-4be3-95d2-d05ce3c0fc95",
   "metadata": {},
   "outputs": [
    {
     "name": "stdout",
     "output_type": "stream",
     "text": [
      "/direct/sphenix+u/egm2153/spring_2023\n"
     ]
    },
    {
     "name": "stderr",
     "output_type": "stream",
     "text": [
      "/cvmfs/sphenix.sdcc.bnl.gov/alma9.2-gcc-14.2.0/opt/sphenix/core/lib/python3.13/site-packages/IPython/core/magics/osm.py:417: UserWarning: This is now an optional IPython functionality, setting dhist requires you to install the `pickleshare` library.\n",
      "  self.shell.db['dhist'] = compress_dhist(dhist)[-100:]\n"
     ]
    },
    {
     "data": {
      "text/plain": [
       "0"
      ]
     },
     "execution_count": 2,
     "metadata": {},
     "output_type": "execute_result"
    },
    {
     "name": "stdout",
     "output_type": "stream",
     "text": [
      "sPhenixStyle: Applying nominal settings.\n",
      "sPhenixStyle: ROOT6 mode\n"
     ]
    }
   ],
   "source": [
    "%cd /sphenix/u/egm2153/spring_2023\n",
    "gROOT.LoadMacro(\"sPhenixStyle.C\");\n",
    "gROOT.ProcessLine(\"SetsPhenixStyle()\")"
   ]
  },
  {
   "cell_type": "code",
   "execution_count": 3,
   "id": "02910a39-d0ad-4bbb-913a-28c09b7d7c65",
   "metadata": {},
   "outputs": [
    {
     "name": "stdout",
     "output_type": "stream",
     "text": [
      "/gpfs/mnt/gpfs02/sphenix/user/egm2153/calib_study/emcal_calib_year1/ana450_2024p009_54912_54921\n",
      "\u001b[0m\u001b[01;34mcombine_out\u001b[0m/                            local_calib_copy_iter10.root\n",
      "\u001b[01;34mcondorout\u001b[0m/                              local_calib_copy_iter11.root\n",
      "CondorRun.sh                            local_calib_copy_iter12.root\n",
      "createDir.sh                            local_calib_copy_iter13.root\n",
      "dst_calofitting_run2auau-00054909.list  local_calib_copy_iter14.root\n",
      "dst_calofitting_run2auau-00054911.list  local_calib_copy_iter15.root\n",
      "dst_calofitting_run2auau-00054912.list  local_calib_copy_iter4.root\n",
      "dst_calofitting_run2auau-00054913.list  local_calib_copy_iter5.root\n",
      "dst_calofitting_run2auau-00054914.list  local_calib_copy_iter6.root\n",
      "dst_calofitting_run2auau-00054915.list  local_calib_copy_iter7.root\n",
      "dst_calofitting_run2auau-00054916.list  local_calib_copy_iter8.root\n",
      "dst_calofitting_run2auau-00054918.list  local_calib_copy_iter9.root\n",
      "dst_calofitting_run2auau-00054920.list  local_calib_copy_postTSC_it1.root\n",
      "dst_calofitting_run2auau-00054921.list  local_calib_copy_postTSC_it2.root\n",
      "fitout_iter10.root                      local_calib_copy_postTSC_it3.root\n",
      "fitout_iter11.root                      local_calib_copy.root\n",
      "fitout_iter12.root                      plot.C\n",
      "fitout_iter13.root                      runList.txt\n",
      "fitout_iter14.root                      \u001b[01;32mrun.sh\u001b[0m*\n",
      "fitout_iter15.root                      temprun.txt\n",
      "fitout_iter4.root                       tsc_fitout_it1.root\n",
      "fitout_iter5.root                       tsc_fitout_it2.root\n",
      "fitout_iter6.root                       tsc_fitout_it3.root\n",
      "fitout_iter7.root                       tsc_output_cdb_it1.root\n",
      "fitout_iter8.root                       tsc_output_cdb_it2.root\n",
      "fitout_iter9.root                       tsc_output_cdb_it3.root\n",
      "inputdata.txt\n"
     ]
    }
   ],
   "source": [
    "%cd /sphenix/user/egm2153/calib_study/emcal_calib_year1/ana450_2024p009_54912_54921/\n",
    "%ls"
   ]
  },
  {
   "cell_type": "code",
   "execution_count": 4,
   "id": "7be9c47d-76a8-4c67-8cb9-797ebf6edd29",
   "metadata": {},
   "outputs": [],
   "source": [
    "f = ROOT.TFile.Open(\"fitout_iter15.root\")\n",
    "h_data_mass = TH1F(f.Get(\"h_peak_eta\"))\n",
    "h_data_mass.SetDirectory(0)\n",
    "f.Close()\n",
    "f = ROOT.TFile.Open(\"/sphenix/user/egm2153/calib_study/emcal_calib_year1/hijing_run14_fixed_build/hijing_run14_uncorr_cls_mass_towerThreshold070MeV.root\")\n",
    "h_mc_mass = TH1F(f.Get(\"h_massTargetHist\"))\n",
    "h_mc_mass.SetDirectory(0)\n",
    "f.Close()"
   ]
  },
  {
   "cell_type": "code",
   "execution_count": 7,
   "id": "f7334100-6b27-482d-b404-dc049adf460b",
   "metadata": {},
   "outputs": [
    {
     "name": "stderr",
     "output_type": "stream",
     "text": [
      "Warning in <TCanvas::Constructor>: Deleting canvas with same name: canvas\n"
     ]
    },
    {
     "data": {
      "image/png": "[encoded data removed]",
      "text/plain": [
       "<IPython.core.display.Image object>"
      ]
     },
     "metadata": {},
     "output_type": "display_data"
    }
   ],
   "source": [
    "canvas = TCanvas(\"canvas\",\"\",600,500)\n",
    "h_data_mass.SetLineColor(1)\n",
    "h_data_mass.SetMarkerColor(1)\n",
    "h_mc_mass.SetLineColor(2)\n",
    "h_mc_mass.SetMarkerColor(2)\n",
    "h_mc_mass.Draw()\n",
    "h_data_mass.Draw('same')\n",
    "canvas.Draw()"
   ]
  },
  {
   "cell_type": "code",
   "execution_count": null,
   "id": "5e6d78ce-abed-4918-9269-daf7938a2760",
   "metadata": {},
   "outputs": [],
   "source": []
  }
 ],
 "metadata": {
  "kernelspec": {
   "display_name": "Python (sPHENIX Alma9)",
   "language": "python",
   "name": "sphenix-python-a9"
  },
  "language_info": {
   "codemirror_mode": {
    "name": "ipython",
    "version": 3
   },
   "file_extension": ".py",
   "mimetype": "text/x-python",
   "name": "python",
   "nbconvert_exporter": "python",
   "pygments_lexer": "ipython3",
   "version": "3.13.0"
  }
 },
 "nbformat": 4,
 "nbformat_minor": 5
}
