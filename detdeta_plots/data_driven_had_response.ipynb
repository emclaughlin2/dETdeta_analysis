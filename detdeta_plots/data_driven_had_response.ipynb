{
 "cells": [
  {
   "cell_type": "code",
   "execution_count": 1,
   "id": "bf65c979-17fb-40a6-86ab-0655724cb0eb",
   "metadata": {},
   "outputs": [
    {
     "name": "stdout",
     "output_type": "stream",
     "text": [
      "Welcome to JupyROOT 6.26/06\n"
     ]
    }
   ],
   "source": [
    "import ROOT\n",
    "import numpy as np\n",
    "from array import array\n",
    "from ROOT import TCanvas, TFile, TProfile, TNtuple, TH1I, TH1F, TH2F, TH3F, TColor, TEfficiency\n",
    "from ROOT import gROOT, gBenchmark, gRandom, gSystem"
   ]
  },
  {
   "cell_type": "code",
   "execution_count": 2,
   "id": "c4c4466d-14d8-4e4e-b3de-4ce7c56b916a",
   "metadata": {},
   "outputs": [
    {
     "name": "stdout",
     "output_type": "stream",
     "text": [
      "/direct/sphenix+u/egm2153/spring_2023\n"
     ]
    },
    {
     "data": {
      "text/plain": [
       "0"
      ]
     },
     "execution_count": 2,
     "metadata": {},
     "output_type": "execute_result"
    },
    {
     "name": "stdout",
     "output_type": "stream",
     "text": [
      "sPhenixStyle: Applying nominal settings.\n",
      "sPhenixStyle: ROOT6 mode\n"
     ]
    }
   ],
   "source": [
    "%cd /sphenix/u/egm2153/spring_2023\n",
    "gROOT.LoadMacro(\"sPhenixStyle.C\");\n",
    "gROOT.ProcessLine(\"SetsPhenixStyle()\")"
   ]
  },
  {
   "cell_type": "code",
   "execution_count": 5,
   "id": "8689624e-b349-4d57-b5b1-dd5c98bfb2cd",
   "metadata": {},
   "outputs": [
    {
     "name": "stdout",
     "output_type": "stream",
     "text": [
      "/gpfs/mnt/gpfs02/sphenix/user/egm2153/calib_study/detdeta/analysis/runs23727_23746/hcal_syst\n"
     ]
    }
   ],
   "source": [
    "%cd /sphenix/user/egm2153/calib_study/detdeta/analysis/runs23727_23746/hcal_syst"
   ]
  },
  {
   "cell_type": "code",
   "execution_count": 10,
   "id": "d8d37182-9803-4ada-9046-8450782c07ce",
   "metadata": {},
   "outputs": [],
   "source": [
    "exfile = ROOT.TFile.Open('../MC/dETdeta_variation_MC_0-5.root')\n",
    "emcal_detdeta_ex = TH1F(exfile.Get(\"emcal_detdeta_dev\"))\n",
    "ihcal_detdeta_ex = TH1F(exfile.Get(\"ihcal_detdeta_dev\"))\n",
    "ohcal_detdeta_ex = TH1F(exfile.Get(\"ohcal_detdeta_dev\"))\n",
    "calo_detdeta_ex = TH1F(exfile.Get(\"ihcal_detdeta_dev\"))\n",
    "emcal_detdeta_ex.SetDirectory(0)\n",
    "ihcal_detdeta_ex.SetDirectory(0)\n",
    "ohcal_detdeta_ex.SetDirectory(0)\n",
    "calo_detdeta_ex.SetDirectory(0)\n",
    "exfile.Close()\n",
    "emcal_detdeta_var = TH1F(emcal_detdeta_ex.Clone(\"emcal_detdeta_var\"))\n",
    "ihcal_detdeta_var = TH1F(ihcal_detdeta_ex.Clone(\"ihcal_detdeta_var\"))\n",
    "ohcal_detdeta_var = TH1F(ohcal_detdeta_ex.Clone(\"ohcal_detdeta_var\"))\n",
    "calo_detdeta_var = TH1F(calo_detdeta_ex.Clone(\"calo_detdeta_var\"))\n",
    "for j in range(1, emcal_detdeta_var.GetNbinsX() + 1):\n",
    "    emcal_detdeta_var.SetBinContent(j, 0)\n",
    "    ihcal_detdeta_var.SetBinContent(j, 0.02)\n",
    "    ohcal_detdeta_var.SetBinContent(j, 0.02)\n",
    "    calo_detdeta_var.SetBinContent(j, 0.21*0.02)"
   ]
  },
  {
   "cell_type": "code",
   "execution_count": 11,
   "id": "e6a5b220-6b13-40d2-9cb5-36914693e601",
   "metadata": {},
   "outputs": [],
   "source": [
    "cents = ['0-5','5-10','10-20','20-30','30-40','40-50','50-60']\n",
    "emcal_avg = [689,585,435,293,189,117,69]\n",
    "ihcal_avg = [756,645,483,326,212,133,78]\n",
    "ohcal_avg = [666,567,423,283,184,114,68]\n",
    "calo_avg = [682,584,438,294,191,118,69]\n",
    "for i, cent in enumerate(cents):\n",
    "    outfile = ROOT.TFile.Open('dETdeta_variation_data_driven_had_resp_'+cent+'.root',\"RECREATE\")\n",
    "    emcal_detdeta_dev = TH1F(emcal_detdeta_var.Clone(\"emcal_detdeta_dev\"))\n",
    "    ihcal_detdeta_dev = TH1F(ihcal_detdeta_var.Clone(\"ihcal_detdeta_dev\"))\n",
    "    ohcal_detdeta_dev = TH1F(ohcal_detdeta_var.Clone(\"ohcal_detdeta_dev\"))\n",
    "    calo_detdeta_dev = TH1F(calo_detdeta_var.Clone(\"calo_detdeta_dev\"))\n",
    "    emcal_detdeta_dev.Scale(emcal_avg[i])\n",
    "    ihcal_detdeta_dev.Scale(ihcal_avg[i])\n",
    "    ohcal_detdeta_dev.Scale(ohcal_avg[i])\n",
    "    calo_detdeta_dev.Scale(calo_avg[i])\n",
    "    emcal_detdeta_dev.Write()\n",
    "    ihcal_detdeta_dev.Write()\n",
    "    ohcal_detdeta_dev.Write()\n",
    "    calo_detdeta_dev.Write()\n",
    "    outfile.Write()\n",
    "    outfile.Close()  "
   ]
  },
  {
   "cell_type": "code",
   "execution_count": null,
   "id": "9ccb56b4-38ad-4164-92b5-40c481c0b4ad",
   "metadata": {},
   "outputs": [],
   "source": []
  },
  {
   "cell_type": "code",
   "execution_count": null,
   "id": "a95ddfd4-3efb-4b64-8bbd-eecb5c9b3053",
   "metadata": {},
   "outputs": [],
   "source": []
  },
  {
   "cell_type": "code",
   "execution_count": null,
   "id": "9cb89c57-c3cc-4908-b2c6-7d7b2aba62b0",
   "metadata": {},
   "outputs": [],
   "source": []
  },
  {
   "cell_type": "code",
   "execution_count": null,
   "id": "9f5e7de0-86b0-4fa5-9059-dd32d30bfd2e",
   "metadata": {},
   "outputs": [],
   "source": []
  },
  {
   "cell_type": "code",
   "execution_count": null,
   "id": "82e74e4f-7815-4ef3-b891-608c3d509df5",
   "metadata": {},
   "outputs": [],
   "source": []
  },
  {
   "cell_type": "code",
   "execution_count": null,
   "id": "89da2b75-2ce0-49be-b2da-bb15043c9f33",
   "metadata": {},
   "outputs": [],
   "source": []
  },
  {
   "cell_type": "code",
   "execution_count": null,
   "id": "394dd713-23ce-486c-8b93-b16aee5549bd",
   "metadata": {},
   "outputs": [],
   "source": []
  },
  {
   "cell_type": "code",
   "execution_count": null,
   "id": "69f5eb83-e6d8-4956-af7d-027498e6687d",
   "metadata": {},
   "outputs": [],
   "source": []
  },
  {
   "cell_type": "code",
   "execution_count": 47,
   "id": "321f2f1f-6913-4780-948a-224f8d0d28f1",
   "metadata": {},
   "outputs": [],
   "source": []
  },
  {
   "cell_type": "code",
   "execution_count": 48,
   "id": "38551f53-cbdd-4335-b528-75e7edcb914b",
   "metadata": {},
   "outputs": [],
   "source": []
  },
  {
   "cell_type": "code",
   "execution_count": null,
   "id": "2c05f41d-351d-4d3e-a4ea-c56f397ed109",
   "metadata": {},
   "outputs": [],
   "source": []
  }
 ],
 "metadata": {
  "kernelspec": {
   "display_name": "Python (sPHENIX)",
   "language": "python",
   "name": "sphenix-env"
  },
  "language_info": {
   "codemirror_mode": {
    "name": "ipython",
    "version": 3
   },
   "file_extension": ".py",
   "mimetype": "text/x-python",
   "name": "python",
   "nbconvert_exporter": "python",
   "pygments_lexer": "ipython3",
   "version": "3.10.8"
  }
 },
 "nbformat": 4,
 "nbformat_minor": 5
}
