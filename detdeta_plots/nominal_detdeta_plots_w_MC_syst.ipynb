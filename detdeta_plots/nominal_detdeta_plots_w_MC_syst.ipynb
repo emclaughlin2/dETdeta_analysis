{
 "cells": [
  {
   "cell_type": "code",
   "execution_count": 1,
   "id": "37f385e0-d927-48f9-958c-d91b6ae80e46",
   "metadata": {},
   "outputs": [
    {
     "name": "stdout",
     "output_type": "stream",
     "text": [
      "Welcome to JupyROOT 6.26/06\n"
     ]
    }
   ],
   "source": [
    "import ROOT\n",
    "from ROOT import TCanvas, TFile, TProfile, TNtuple, TH1I, TH1F, TH2F, TH3F, TColor, TEfficiency\n",
    "from ROOT import gROOT, gBenchmark, gRandom, gSystem\n",
    "import numpy as np\n",
    "import pdb\n",
    "from array import array"
   ]
  },
  {
   "cell_type": "code",
   "execution_count": 2,
   "id": "b0266dde-707c-413d-bde5-f97201132ee0",
   "metadata": {},
   "outputs": [
    {
     "name": "stdout",
     "output_type": "stream",
     "text": [
      "/direct/sphenix+u/egm2153/spring_2023\n"
     ]
    },
    {
     "data": {
      "text/plain": [
       "0"
      ]
     },
     "execution_count": 2,
     "metadata": {},
     "output_type": "execute_result"
    },
    {
     "name": "stdout",
     "output_type": "stream",
     "text": [
      "sPhenixStyle: Applying nominal settings.\n",
      "sPhenixStyle: ROOT6 mode\n"
     ]
    }
   ],
   "source": [
    "%cd /sphenix/u/egm2153/spring_2023\n",
    "gROOT.LoadMacro(\"sPhenixStyle.C\");\n",
    "gROOT.ProcessLine(\"SetsPhenixStyle()\")"
   ]
  },
  {
   "cell_type": "code",
   "execution_count": 3,
   "id": "31156cee-399a-4585-bddd-7649e72c2b28",
   "metadata": {},
   "outputs": [
    {
     "name": "stdout",
     "output_type": "stream",
     "text": [
      "/gpfs/mnt/gpfs02/sphenix/user/egm2153/calib_study/detdeta/analysis/runs23727_23746\n"
     ]
    }
   ],
   "source": [
    "%cd /sphenix/user/egm2153/calib_study/detdeta/analysis/runs23727_23746"
   ]
  },
  {
   "cell_type": "code",
   "execution_count": 68,
   "id": "90af2cb2-5201-446d-87ee-62bf469b2465",
   "metadata": {},
   "outputs": [],
   "source": [
    "#runs = ['23727','23735','23737','23738','23739','23740','23743','23745']\n",
    "cent = '50-60'\n",
    "lowbound = {'0-5': 400, '5-10':300, '10-20':200, '20-30':100, '30-40':80, '40-50':60, '50-60':30}\n",
    "highbound = {'0-5': 1300, '5-10':1200, '10-20':900, '20-30':700, '30-40':450, '40-50':350, '50-60':150}\n",
    "starmean = {'0-5': 620, '5-10':515, '10-20':402, '20-30':279, '30-40':187, '40-50':118, '50-60':70}\n",
    "phenixmean = {'0-5': 599, '5-10':498.7, '10-20':367.8, '20-30':248.5, '30-40':162.7, '40-50':101.1, '50-60':58.6}\n",
    "staruncert = {'0-5': 33, '5-10':28, '10-20':21, '20-30':15, '30-40':10, '40-50':6, '50-60':4}\n",
    "phenixuncert = {'0-5': 24.7, '5-10':28.9, '10-20':23.1, '20-30':17.5, '30-40':13.5, '40-50':9.8, '50-60':7.4}\n",
    "\n",
    "f1 = ROOT.TFile.Open(\"MC/dETdeta_analysis_allruns_hijing_run14_nozs_mc_reweight_\"+cent+\"_reweight_hijing.root\")\n",
    "h_eT_truth = TH1F(f1.Get(\"hetdeta_ihcalbin\"))\n",
    "h_eT_truth_ihcalbin = TH1F(f1.Get(\"hetdeta_ihcalbin\"))\n",
    "h_eT_truth_ohcalbin = TH1F(f1.Get(\"hetdeta_ohcalbin\"))\n",
    "h_eT_truth_calobin = TH1F(f1.Get(\"hetdeta_calobin\"))\n",
    "h_eT_sim_emcal = TH1F(f1.Get(\"h_eT_emcal\"))\n",
    "h_eT_sim_ihcal = TH1F(f1.Get(\"h_eT_ihcal\"))\n",
    "h_eT_sim_ohcal = TH1F(f1.Get(\"h_eT_ohcal\"))\n",
    "h_eT_sim_calo = TH1F(f1.Get(\"h_eT_calo\"))\n",
    "h_eT_truth.SetDirectory(0)\n",
    "h_eT_truth_ihcalbin.SetDirectory(0)\n",
    "h_eT_truth_ohcalbin.SetDirectory(0)\n",
    "h_eT_truth_calobin.SetDirectory(0)\n",
    "h_eT_sim_emcal.SetDirectory(0)\n",
    "h_eT_sim_ihcal.SetDirectory(0)\n",
    "h_eT_sim_ohcal.SetDirectory(0)\n",
    "h_eT_sim_calo.SetDirectory(0)\n",
    "f1.Close()\n",
    "f2 = ROOT.TFile.Open(\"new_cent_bins/dETdeta_analysis_allruns_HCal_zs_30ADC_EMCal_zs_40ADC_data_noweight_\"+cent+\".root\")\n",
    "h_eT_data_emcal = TH1F(f2.Get(\"h_eT_emcal\"))\n",
    "h_eT_data_ihcal = TH1F(f2.Get(\"h_eT_ihcal\"))\n",
    "h_eT_data_ohcal = TH1F(f2.Get(\"h_eT_ohcal\"))\n",
    "h_eT_data_calo = TH1F(f2.Get(\"h_eT_calo\"))\n",
    "h_eT_data_emcal.SetDirectory(0)\n",
    "h_eT_data_ihcal.SetDirectory(0)\n",
    "h_eT_data_ohcal.SetDirectory(0)\n",
    "h_eT_data_calo.SetDirectory(0)\n",
    "f2.Close()\n",
    "f3 = ROOT.TFile.Open(\"MC/dETdeta_analysis_allruns_run14_nozs_mc_reweight_\"+cent+\"_reweight_epos.root\")\n",
    "h_eT_truth_epos = TH1F(f3.Get(\"hetdeta_ihcalbin\"))\n",
    "h_eT_truth_ihcalbin_epos = TH1F(f3.Get(\"hetdeta_ihcalbin\"))\n",
    "h_eT_truth_ohcalbin_epos = TH1F(f3.Get(\"hetdeta_ohcalbin\"))\n",
    "h_eT_truth_calobin_epos = TH1F(f3.Get(\"hetdeta_calobin\"))\n",
    "h_eT_epos_emcal = TH1F(f3.Get(\"h_eT_emcal\"))\n",
    "h_eT_epos_ihcal = TH1F(f3.Get(\"h_eT_ihcal\"))\n",
    "h_eT_epos_ohcal = TH1F(f3.Get(\"h_eT_ohcal\"))\n",
    "h_eT_epos_calo = TH1F(f3.Get(\"h_eT_calo\"))\n",
    "h_eT_truth_epos.SetDirectory(0)\n",
    "h_eT_truth_ihcalbin_epos.SetDirectory(0)\n",
    "h_eT_truth_ohcalbin_epos.SetDirectory(0)\n",
    "h_eT_truth_calobin_epos.SetDirectory(0)\n",
    "h_eT_epos_emcal.SetDirectory(0)\n",
    "h_eT_epos_ihcal.SetDirectory(0)\n",
    "h_eT_epos_ohcal.SetDirectory(0)\n",
    "h_eT_epos_calo.SetDirectory(0)\n",
    "f3.Close()\n",
    "f4 = ROOT.TFile.Open(\"MC/dETdeta_analysis_allruns_run14_nozs_mc_reweight_\"+cent+\"_reweight_ampt.root\")\n",
    "h_eT_truth_ampt = TH1F(f4.Get(\"hetdeta_ihcalbin\"))\n",
    "h_eT_truth_ihcalbin_ampt = TH1F(f4.Get(\"hetdeta_ihcalbin\"))\n",
    "h_eT_truth_ohcalbin_ampt = TH1F(f4.Get(\"hetdeta_ohcalbin\"))\n",
    "h_eT_truth_calobin_ampt = TH1F(f4.Get(\"hetdeta_calobin\"))\n",
    "h_eT_ampt_emcal = TH1F(f4.Get(\"h_eT_emcal\"))\n",
    "h_eT_ampt_ihcal = TH1F(f4.Get(\"h_eT_ihcal\"))\n",
    "h_eT_ampt_ohcal = TH1F(f4.Get(\"h_eT_ohcal\"))\n",
    "h_eT_ampt_calo = TH1F(f4.Get(\"h_eT_calo\"))\n",
    "h_eT_truth_ampt.SetDirectory(0)\n",
    "h_eT_truth_ihcalbin_ampt.SetDirectory(0)\n",
    "h_eT_truth_ohcalbin_ampt.SetDirectory(0)\n",
    "h_eT_truth_calobin_ampt.SetDirectory(0)\n",
    "h_eT_ampt_emcal.SetDirectory(0)\n",
    "h_eT_ampt_ihcal.SetDirectory(0)\n",
    "h_eT_ampt_ohcal.SetDirectory(0)\n",
    "h_eT_ampt_calo.SetDirectory(0)\n",
    "f4.Close()\n",
    "f5 = ROOT.TFile.Open(\"dETdeta_total_variation_\"+cent+\".root\")\n",
    "emcal_unc = TH1F(f5.Get(\"emcal_detdeta_dev\"))\n",
    "ihcal_unc = TH1F(f5.Get(\"ihcal_detdeta_dev\"))\n",
    "ohcal_unc = TH1F(f5.Get(\"ohcal_detdeta_dev\"))\n",
    "calo_unc = TH1F(f5.Get(\"calo_detdeta_dev\"))\n",
    "emcal_unc.SetDirectory(0)\n",
    "ihcal_unc.SetDirectory(0)\n",
    "ohcal_unc.SetDirectory(0)\n",
    "calo_unc.SetDirectory(0)\n",
    "f5.Close()"
   ]
  },
  {
   "cell_type": "code",
   "execution_count": 69,
   "id": "78a694dc-d294-419c-aa0d-af7ba89b8e2a",
   "metadata": {},
   "outputs": [],
   "source": [
    "h_eT_data_hcal = TH1F(h_eT_data_ihcal.Clone(\"h_eT_data_hcal\"))\n",
    "for i in range(1, h_eT_data_hcal.GetNbinsX() + 1):\n",
    "    h_eT_data_hcal.SetBinContent(i, h_eT_data_ihcal.GetBinContent(i) + h_eT_data_ohcal.GetBinContent(i))\n",
    "    h_eT_data_hcal.SetBinError(i, np.sqrt(h_eT_data_ihcal.GetBinError(i)**2 + h_eT_data_ohcal.GetBinError(i)**2))\n",
    "\n",
    "h_eT_sim_hcal = TH1F(h_eT_sim_ihcal.Clone(\"h_eT_sim_hcal\"))\n",
    "for i in range(1, h_eT_sim_hcal.GetNbinsX() + 1):\n",
    "    h_eT_sim_hcal.SetBinContent(i, h_eT_sim_ihcal.GetBinContent(i) + h_eT_sim_ohcal.GetBinContent(i))\n",
    "    h_eT_sim_hcal.SetBinError(i, np.sqrt(h_eT_sim_ihcal.GetBinError(i)**2 + h_eT_sim_ohcal.GetBinError(i)**2))\n",
    "\n",
    "h_eT_epos_hcal = TH1F(h_eT_epos_ihcal.Clone(\"h_eT_epos_hcal\"))\n",
    "for i in range(1, h_eT_epos_hcal.GetNbinsX() + 1):\n",
    "    h_eT_epos_hcal.SetBinContent(i, h_eT_epos_ihcal.GetBinContent(i) + h_eT_epos_ohcal.GetBinContent(i))\n",
    "    h_eT_epos_hcal.SetBinError(i, np.sqrt(h_eT_epos_ihcal.GetBinError(i)**2 + h_eT_epos_ohcal.GetBinError(i)**2))\n",
    "\n",
    "h_eT_ampt_hcal = TH1F(h_eT_ampt_ihcal.Clone(\"h_eT_ampt_hcal\"))\n",
    "for i in range(1, h_eT_ampt_hcal.GetNbinsX() + 1):\n",
    "    h_eT_ampt_hcal.SetBinContent(i, h_eT_ampt_ihcal.GetBinContent(i) + h_eT_ampt_ohcal.GetBinContent(i))\n",
    "    h_eT_ampt_hcal.SetBinError(i, np.sqrt(h_eT_ampt_ihcal.GetBinError(i)**2 + h_eT_ampt_ohcal.GetBinError(i)**2))"
   ]
  },
  {
   "cell_type": "code",
   "execution_count": 70,
   "id": "732de99e-f853-45bb-966f-c7257829fbca",
   "metadata": {},
   "outputs": [
    {
     "data": {
      "text/plain": [
       "True"
      ]
     },
     "execution_count": 70,
     "metadata": {},
     "output_type": "execute_result"
    }
   ],
   "source": [
    "emcal_ratio_hijing = TH1F(h_eT_sim_emcal.Clone(\"emcal_ratio_hijing\"))\n",
    "emcal_ratio_hijing.Divide(h_eT_truth)\n",
    "emcal_detdeta_hijing = TH1F(h_eT_data_emcal.Clone(\"emcal_detdeta_hijing\"))\n",
    "emcal_detdeta_hijing.Divide(emcal_ratio_hijing)\n",
    "emcal_ratio_epos = TH1F(h_eT_epos_emcal.Clone(\"emcal_ratio_epos\"))\n",
    "emcal_ratio_epos.Divide(h_eT_truth_epos)\n",
    "emcal_detdeta_epos = TH1F(h_eT_data_emcal.Clone(\"emcal_detdeta_epos\"))\n",
    "emcal_detdeta_epos.Divide(emcal_ratio_epos)\n",
    "emcal_ratio_ampt = TH1F(h_eT_ampt_emcal.Clone(\"emcal_ratio_ampt\"))\n",
    "emcal_ratio_ampt.Divide(h_eT_truth_ampt)\n",
    "emcal_detdeta_ampt = TH1F(h_eT_data_emcal.Clone(\"emcal_detdeta_ampt\"))\n",
    "emcal_detdeta_ampt.Divide(emcal_ratio_ampt)\n",
    "\n",
    "ihcal_ratio_hijing = TH1F(h_eT_sim_ihcal.Clone(\"ihcal_ratio_hijing\"))\n",
    "ihcal_ratio_hijing.Divide(h_eT_truth_ihcalbin)\n",
    "ihcal_detdeta_hijing = TH1F(h_eT_data_ihcal.Clone(\"ihcal_detdeta_hijing\"))\n",
    "ihcal_detdeta_hijing.Divide(ihcal_ratio_hijing)\n",
    "ihcal_ratio_epos = TH1F(h_eT_epos_ihcal.Clone(\"ihcal_ratio_epos\"))\n",
    "ihcal_ratio_epos.Divide(h_eT_truth_ihcalbin_epos)\n",
    "ihcal_detdeta_epos = TH1F(h_eT_data_ihcal.Clone(\"ihcal_detdeta_epos\"))\n",
    "ihcal_detdeta_epos.Divide(ihcal_ratio_epos)\n",
    "ihcal_ratio_ampt = TH1F(h_eT_ampt_ihcal.Clone(\"ihcal_ratio_ampt\"))\n",
    "ihcal_ratio_ampt.Divide(h_eT_truth_ihcalbin_ampt)\n",
    "ihcal_detdeta_ampt = TH1F(h_eT_data_ihcal.Clone(\"ihcal_detdeta_ampt\"))\n",
    "ihcal_detdeta_ampt.Divide(ihcal_ratio_ampt)\n",
    "\n",
    "hcal_ratio_hijing = TH1F(h_eT_sim_hcal.Clone(\"hcal_ratio_hijing\"))\n",
    "hcal_ratio_hijing.Divide(h_eT_truth_ihcalbin)\n",
    "hcal_detdeta_hijing = TH1F(h_eT_data_hcal.Clone(\"hcal_detdeta_hijing\"))\n",
    "hcal_detdeta_hijing.Divide(hcal_ratio_hijing)\n",
    "hcal_ratio_epos = TH1F(h_eT_epos_hcal.Clone(\"hcal_ratio_epos\"))\n",
    "hcal_ratio_epos.Divide(h_eT_truth_ihcalbin_epos)\n",
    "hcal_detdeta_epos = TH1F(h_eT_data_hcal.Clone(\"hcal_detdeta_epos\"))\n",
    "hcal_detdeta_epos.Divide(hcal_ratio_epos)\n",
    "hcal_ratio_ampt = TH1F(h_eT_ampt_hcal.Clone(\"hcal_ratio_ampt\"))\n",
    "hcal_ratio_ampt.Divide(h_eT_truth_ihcalbin_ampt)\n",
    "hcal_detdeta_ampt = TH1F(h_eT_data_hcal.Clone(\"hcal_detdeta_ampt\"))\n",
    "hcal_detdeta_ampt.Divide(hcal_ratio_ampt)\n",
    "\n",
    "ohcal_ratio_hijing = TH1F(h_eT_sim_ohcal.Clone(\"ohcal_ratio_hijing\"))\n",
    "ohcal_ratio_hijing.Divide(h_eT_truth_ohcalbin)\n",
    "ohcal_detdeta_hijing = TH1F(h_eT_data_ohcal.Clone(\"ohcal_detdeta_hijing\"))\n",
    "ohcal_detdeta_hijing.Divide(ohcal_ratio_hijing)\n",
    "ohcal_ratio_epos = TH1F(h_eT_epos_ohcal.Clone(\"ohcal_ratio_epos\"))\n",
    "ohcal_ratio_epos.Divide(h_eT_truth_ohcalbin_epos)\n",
    "ohcal_detdeta_epos = TH1F(h_eT_data_ohcal.Clone(\"ohcal_detdeta_epos\"))\n",
    "ohcal_detdeta_epos.Divide(ohcal_ratio_epos)\n",
    "ohcal_ratio_ampt = TH1F(h_eT_ampt_ohcal.Clone(\"ohcal_ratio_ampt\"))\n",
    "ohcal_ratio_ampt.Divide(h_eT_truth_ohcalbin_ampt)\n",
    "ohcal_detdeta_ampt = TH1F(h_eT_data_ohcal.Clone(\"ohcal_detdeta_ampt\"))\n",
    "ohcal_detdeta_ampt.Divide(ohcal_ratio_ampt)\n",
    "\n",
    "calo_ratio_hijing = TH1F(h_eT_sim_calo.Clone(\"calo_ratio_hijing\"))\n",
    "calo_ratio_hijing.Divide(h_eT_truth_calobin)\n",
    "calo_detdeta_hijing = TH1F(h_eT_data_calo.Clone(\"calo_detdeta_hijing\"))\n",
    "calo_detdeta_hijing.Divide(calo_ratio_hijing)\n",
    "calo_ratio_epos = TH1F(h_eT_epos_calo.Clone(\"calo_ratio_epos\"))\n",
    "calo_ratio_epos.Divide(h_eT_truth_calobin_epos)\n",
    "calo_detdeta_epos = TH1F(h_eT_data_calo.Clone(\"calo_detdeta_epos\"))\n",
    "calo_detdeta_epos.Divide(calo_ratio_epos)\n",
    "calo_ratio_ampt = TH1F(h_eT_ampt_calo.Clone(\"calo_ratio_ampt\"))\n",
    "calo_ratio_ampt.Divide(h_eT_truth_calobin_ampt)\n",
    "calo_detdeta_ampt = TH1F(h_eT_data_calo.Clone(\"calo_detdeta_ampt\"))\n",
    "calo_detdeta_ampt.Divide(calo_ratio_ampt)"
   ]
  },
  {
   "cell_type": "code",
   "execution_count": 71,
   "id": "a6c24113-455a-4cc0-931b-49b8c479b06f",
   "metadata": {},
   "outputs": [],
   "source": [
    "emcal_hijing_epos = []\n",
    "emcal_hijing_ampt = []\n",
    "emcal_epos_ampt = []\n",
    "emcal_hijing_epos_perc = []\n",
    "emcal_hijing_ampt_perc = []\n",
    "emcal_epos_ampt_perc = []\n",
    "emcal_mean = []\n",
    "for i in range(1, 25):\n",
    "    emcal_mean.append(emcal_detdeta_hijing.GetBinContent(i) + emcal_detdeta_epos.GetBinContent(i) + emcal_detdeta_ampt.GetBinContent(i))\n",
    "    emcal_hijing_epos.append(emcal_detdeta_hijing.GetBinContent(i) - emcal_detdeta_epos.GetBinContent(i))\n",
    "    emcal_hijing_ampt.append(emcal_detdeta_hijing.GetBinContent(i) - emcal_detdeta_ampt.GetBinContent(i))\n",
    "    emcal_epos_ampt.append(emcal_detdeta_epos.GetBinContent(i) - emcal_detdeta_ampt.GetBinContent(i))\n",
    "\n",
    "for i in range(len(emcal_mean)):\n",
    "    emcal_hijing_epos_perc.append((3*emcal_hijing_epos[i])/emcal_mean[i])\n",
    "    emcal_hijing_ampt_perc.append((3*emcal_hijing_ampt[i])/emcal_mean[i])\n",
    "    emcal_epos_ampt_perc.append((3*emcal_epos_ampt[i])/emcal_mean[i])"
   ]
  },
  {
   "cell_type": "code",
   "execution_count": 72,
   "id": "39bbc120-46e3-4843-8f14-6b00e95e9347",
   "metadata": {},
   "outputs": [
    {
     "name": "stdout",
     "output_type": "stream",
     "text": [
      "24\n"
     ]
    }
   ],
   "source": [
    "ihcal_hijing_epos = []\n",
    "ihcal_hijing_ampt = []\n",
    "ihcal_epos_ampt = []\n",
    "ihcal_hijing_epos_perc = []\n",
    "ihcal_hijing_ampt_perc = []\n",
    "ihcal_epos_ampt_perc = []\n",
    "ihcal_mean = []\n",
    "for i in range(1, 25):\n",
    "    ihcal_mean.append(ihcal_detdeta_hijing.GetBinContent(i) + ihcal_detdeta_epos.GetBinContent(i) + ihcal_detdeta_ampt.GetBinContent(i))\n",
    "    ihcal_hijing_epos.append(ihcal_detdeta_hijing.GetBinContent(i) - ihcal_detdeta_epos.GetBinContent(i))\n",
    "    ihcal_hijing_ampt.append(ihcal_detdeta_hijing.GetBinContent(i) - ihcal_detdeta_ampt.GetBinContent(i))\n",
    "    ihcal_epos_ampt.append(ihcal_detdeta_epos.GetBinContent(i) - ihcal_detdeta_ampt.GetBinContent(i))\n",
    "\n",
    "for i in range(len(ihcal_mean)):\n",
    "    ihcal_hijing_epos_perc.append((3*ihcal_hijing_epos[i])/ihcal_mean[i])\n",
    "    ihcal_hijing_ampt_perc.append((3*ihcal_hijing_ampt[i])/ihcal_mean[i])\n",
    "    ihcal_epos_ampt_perc.append((3*ihcal_epos_ampt[i])/ihcal_mean[i])\n",
    "print(len(ihcal_epos_ampt))"
   ]
  },
  {
   "cell_type": "code",
   "execution_count": 73,
   "id": "a77f6797-2f77-4fb4-921e-a6442dfa50fe",
   "metadata": {},
   "outputs": [
    {
     "name": "stdout",
     "output_type": "stream",
     "text": [
      "[0.039810564798523684, 0.031742379647886655, 0.046717411085989854, 0.052247795210685205, 0.027073771900404445, 0.04301354101739065, 0.02667700747080793, 0.03546751330322408, 0.03576287994801108, 0.030034814842441353, 0.030138804682980785, 0.023115368153202434, 0.050087933519897515, 0.0298566829507896, 0.02402845507656409, 0.04173968020875543, 0.033178470244800404, 0.051495181027563015, 0.035670221645153814, 0.05505736169244869, 0.048117728393726154, 0.06053215774705032, 0.06084948887380189, 0.06922259392681404]\n"
     ]
    }
   ],
   "source": [
    "hcal_hijing_epos = []\n",
    "hcal_hijing_ampt = []\n",
    "hcal_epos_ampt = []\n",
    "hcal_hijing_epos_perc = []\n",
    "hcal_hijing_ampt_perc = []\n",
    "hcal_epos_ampt_perc = []\n",
    "hcal_mean = []\n",
    "for i in range(1, 25):\n",
    "    hcal_mean.append(hcal_detdeta_hijing.GetBinContent(i) + hcal_detdeta_epos.GetBinContent(i) + hcal_detdeta_ampt.GetBinContent(i))\n",
    "    hcal_hijing_epos.append(hcal_detdeta_hijing.GetBinContent(i) - hcal_detdeta_epos.GetBinContent(i))\n",
    "    hcal_hijing_ampt.append(hcal_detdeta_hijing.GetBinContent(i) - hcal_detdeta_ampt.GetBinContent(i))\n",
    "    hcal_epos_ampt.append(hcal_detdeta_epos.GetBinContent(i) - hcal_detdeta_ampt.GetBinContent(i))\n",
    "\n",
    "for i in range(len(hcal_mean)):\n",
    "    hcal_hijing_epos_perc.append((3*hcal_hijing_epos[i])/hcal_mean[i])\n",
    "    hcal_hijing_ampt_perc.append((3*hcal_hijing_ampt[i])/hcal_mean[i])\n",
    "    hcal_epos_ampt_perc.append((3*hcal_epos_ampt[i])/hcal_mean[i])\n",
    "print(hcal_epos_ampt_perc)"
   ]
  },
  {
   "cell_type": "code",
   "execution_count": 74,
   "id": "e6b38c8b-3dd0-4f79-bfc5-5476ccbf482a",
   "metadata": {},
   "outputs": [
    {
     "name": "stdout",
     "output_type": "stream",
     "text": [
      "[-0.04440241561014057, -0.04856238249468069, -0.06482113291130165, -0.055159317805914695, -0.04547046512265414, -0.03948131162139104, -0.038684537131093155, -0.03534028059598223, -0.030868052154315397, -0.026791530651540944, -0.03563357496333671, -0.044881656735863466, -0.049669752517547655, -0.05277427850376218, -0.02720699214512955, -0.033995972367388806, -0.05066186043504798, -0.04464036690814851, -0.04027192372744538, -0.06048796540359522, -0.06431098266790969, -0.06464094662104981, -0.06812758659426645, -0.058220312274997944]\n"
     ]
    }
   ],
   "source": [
    "ohcal_hijing_epos = []\n",
    "ohcal_hijing_ampt = []\n",
    "ohcal_epos_ampt = []\n",
    "ohcal_hijing_epos_perc = []\n",
    "ohcal_hijing_ampt_perc = []\n",
    "ohcal_epos_ampt_perc = []\n",
    "ohcal_dev = []\n",
    "ohcal_mean = []\n",
    "for i in range(1, 25):\n",
    "    ohcal_mean.append(ohcal_detdeta_hijing.GetBinContent(i) + ohcal_detdeta_epos.GetBinContent(i) + ohcal_detdeta_ampt.GetBinContent(i))\n",
    "    ohcal_hijing_epos.append(ohcal_detdeta_hijing.GetBinContent(i) - ohcal_detdeta_epos.GetBinContent(i))\n",
    "    ohcal_hijing_ampt.append(ohcal_detdeta_hijing.GetBinContent(i) - ohcal_detdeta_ampt.GetBinContent(i))\n",
    "    ohcal_epos_ampt.append(ohcal_detdeta_epos.GetBinContent(i) - ohcal_detdeta_ampt.GetBinContent(i))\n",
    "\n",
    "for i in range(len(ohcal_mean)):\n",
    "    ohcal_hijing_epos_perc.append((3*ohcal_hijing_epos[i])/ohcal_mean[i])\n",
    "    ohcal_hijing_ampt_perc.append((3*ohcal_hijing_ampt[i])/ohcal_mean[i])\n",
    "    ohcal_epos_ampt_perc.append((3*ohcal_epos_ampt[i])/ohcal_mean[i])\n",
    "\n",
    "print(ohcal_hijing_epos_perc)"
   ]
  },
  {
   "cell_type": "code",
   "execution_count": 75,
   "id": "03d726d0-8114-420a-b796-4c141430a1cb",
   "metadata": {},
   "outputs": [],
   "source": [
    "calo_hijing_epos = []\n",
    "calo_hijing_ampt = []\n",
    "calo_epos_ampt = []\n",
    "calo_hijing_epos_perc = []\n",
    "calo_hijing_ampt_perc = []\n",
    "calo_epos_ampt_perc = []\n",
    "calo_dev = []\n",
    "calo_mean = []\n",
    "for i in range(1, 25):\n",
    "    calo_mean.append(calo_detdeta_hijing.GetBinContent(i) + calo_detdeta_epos.GetBinContent(i) + calo_detdeta_ampt.GetBinContent(i))\n",
    "    calo_hijing_epos.append(calo_detdeta_hijing.GetBinContent(i) - calo_detdeta_epos.GetBinContent(i))\n",
    "    calo_hijing_ampt.append(calo_detdeta_hijing.GetBinContent(i) - calo_detdeta_ampt.GetBinContent(i))\n",
    "    calo_epos_ampt.append(calo_detdeta_epos.GetBinContent(i) - calo_detdeta_ampt.GetBinContent(i))\n",
    "\n",
    "for i in range(len(calo_mean)):\n",
    "    calo_hijing_epos_perc.append((3*calo_hijing_epos[i])/calo_mean[i])\n",
    "    calo_hijing_ampt_perc.append((3*calo_hijing_ampt[i])/calo_mean[i])\n",
    "    calo_epos_ampt_perc.append((3*calo_epos_ampt[i])/calo_mean[i])"
   ]
  },
  {
   "cell_type": "code",
   "execution_count": 76,
   "id": "dfe2da3b-d833-486b-8084-5dfefb1edeb9",
   "metadata": {},
   "outputs": [],
   "source": [
    "emcal_sigma = TH1F(emcal_detdeta_hijing.Clone(\"emcal_detdeta_dev\"))\n",
    "ihcal_sigma = TH1F(ihcal_detdeta_hijing.Clone(\"ihcal_detdeta_dev\"))\n",
    "ohcal_sigma = TH1F(ohcal_detdeta_hijing.Clone(\"ohcal_detdeta_dev\"))\n",
    "calo_sigma = TH1F(calo_detdeta_hijing.Clone(\"calo_detdeta_dev\"))\n",
    "hcal_sigma = TH1F(hcal_detdeta_hijing.Clone(\"hcal_detdeta_dev\"))\n",
    "\n",
    "emcal_sigma.GetYaxis().SetRangeUser(0,100)\n",
    "ihcal_sigma.GetYaxis().SetRangeUser(0,100)\n",
    "ohcal_sigma.GetYaxis().SetRangeUser(0,100)\n",
    "calo_sigma.GetYaxis().SetRangeUser(0,100)\n",
    "hcal_sigma.GetYaxis().SetRangeUser(0,100)\n",
    "\n",
    "for i in range(1, emcal_sigma.GetNbinsX() + 1):\n",
    "    if i < 3:\n",
    "        emcal_sigma.SetBinContent(i,(np.abs(emcal_hijing_epos[2]) + np.abs(emcal_hijing_ampt[2]) + np.abs(emcal_epos_ampt[2]))/3.0)\n",
    "        emcal_sigma.SetBinError(i,0)\n",
    "    else:\n",
    "        emcal_sigma.SetBinContent(i,(np.abs(emcal_hijing_epos[i-1]) + np.abs(emcal_hijing_ampt[i-1]) + np.abs(emcal_epos_ampt[i-1]))/3.0)\n",
    "        emcal_sigma.SetBinError(i,0)\n",
    "for i in range(1, ihcal_sigma.GetNbinsX() + 1):\n",
    "    ihcal_sigma.SetBinContent(i,(np.abs(ihcal_hijing_epos[i-1]) + np.abs(ihcal_hijing_ampt[i-1]) + np.abs(ihcal_epos_ampt[i-1]))/3.0)\n",
    "    ihcal_sigma.SetBinError(i,0)\n",
    "for i in range(1, ohcal_sigma.GetNbinsX() + 1):\n",
    "    ohcal_sigma.SetBinContent(i,(np.abs(ohcal_hijing_epos[i-1]) + np.abs(ohcal_hijing_ampt[i-1]) + np.abs(ohcal_epos_ampt[i-1]))/3.0)\n",
    "    ohcal_sigma.SetBinError(i,0)\n",
    "for i in range(1, hcal_sigma.GetNbinsX() + 1):\n",
    "    hcal_sigma.SetBinContent(i,(np.abs(hcal_hijing_epos[i-1]) + np.abs(hcal_hijing_ampt[i-1]) + np.abs(hcal_epos_ampt[i-1]))/3.0)\n",
    "    hcal_sigma.SetBinError(i,0)\n",
    "for i in range(1, calo_sigma.GetNbinsX() + 1):\n",
    "    if i < 3:\n",
    "        calo_sigma.SetBinContent(i,(np.abs(calo_hijing_epos[2]) + np.abs(calo_hijing_ampt[2]) + np.abs(calo_epos_ampt[2]))/3.0)\n",
    "        calo_sigma.SetBinError(i,0)\n",
    "    else:\n",
    "        calo_sigma.SetBinContent(i,(np.abs(calo_hijing_epos[i-1]) + np.abs(calo_hijing_ampt[i-1]) + np.abs(calo_epos_ampt[i-1]))/3.0)\n",
    "        calo_sigma.SetBinError(i,0)\n",
    "emcal_sigma.Smooth()\n",
    "ihcal_sigma.Smooth()\n",
    "ohcal_sigma.Smooth()\n",
    "calo_sigma.Smooth()\n",
    "hcal_sigma.Smooth()\n",
    "outfile = ROOT.TFile.Open('MC/dETdeta_variation_MC_w_hcal_'+cent+'.root',\"RECREATE\")\n",
    "emcal_sigma.Write()\n",
    "ihcal_sigma.Write()\n",
    "ohcal_sigma.Write()\n",
    "calo_sigma.Write()\n",
    "hcal_sigma.Write()\n",
    "outfile.Write()\n",
    "outfile.Close()"
   ]
  },
  {
   "cell_type": "code",
   "execution_count": 20,
   "id": "50b8e386-a114-4856-9f51-36791252bb04",
   "metadata": {},
   "outputs": [
    {
     "data": {
      "image/png": "[encoded data removed]",
      "text/plain": [
       "<IPython.core.display.Image object>"
      ]
     },
     "metadata": {},
     "output_type": "display_data"
    }
   ],
   "source": [
    "canvas = TCanvas(\"canvas\",\"\",600,500)\n",
    "hcal_sigma.Draw()\n",
    "canvas.Draw()"
   ]
  },
  {
   "cell_type": "code",
   "execution_count": 22,
   "id": "7c0dbca2-6603-475b-97ac-e8b464505b09",
   "metadata": {},
   "outputs": [
    {
     "name": "stderr",
     "output_type": "stream",
     "text": [
      "Warning in <TCanvas::Constructor>: Deleting canvas with same name: canvas\n"
     ]
    },
    {
     "data": {
      "image/png": "[encoded data removed]",
      "text/plain": [
       "<IPython.core.display.Image object>"
      ]
     },
     "metadata": {},
     "output_type": "display_data"
    }
   ],
   "source": [
    "canvas = TCanvas(\"canvas\",\"\",600,500)\n",
    "ihcal_sigma.Draw()\n",
    "canvas.Draw()"
   ]
  },
  {
   "cell_type": "code",
   "execution_count": 203,
   "id": "30bc269a-f850-4f76-9f18-c5c473622bfe",
   "metadata": {},
   "outputs": [
    {
     "name": "stderr",
     "output_type": "stream",
     "text": [
      "Warning in <TCanvas::Constructor>: Deleting canvas with same name: canvas\n",
      "Info in <TCanvas::Print>: png file /sphenix/u/egm2153/spring_2024/detdeta_plots/mc_variation_10-20.png has been created\n"
     ]
    },
    {
     "data": {
      "image/png": "[encoded data removed]",
      "text/plain": [
       "<IPython.core.display.Image object>"
      ]
     },
     "metadata": {},
     "output_type": "display_data"
    }
   ],
   "source": [
    "ehe = array('f', emcal_hijing_epos_perc)\n",
    "ihe = array('f', ihcal_hijing_epos_perc)\n",
    "ohe = array('f', ohcal_hijing_epos_perc)\n",
    "eea = array('f', emcal_epos_ampt_perc)\n",
    "iea = array('f', ihcal_epos_ampt_perc)\n",
    "oea = array('f', ohcal_epos_ampt_perc)\n",
    "eha = array('f', emcal_hijing_ampt_perc)\n",
    "iha = array('f', ihcal_hijing_ampt_perc)\n",
    "oha = array('f', ohcal_hijing_ampt_perc)\n",
    "leg_tags = ['EMCal_{HIJING,EPOS}','IHCal_{HIJING,EPOS}','OHCal_{HIJING,EPOS}','EMCal_{EPOS,AMPT}','IHCal_{EPOS,AMPT}','OHCal_{EPOS,AMPT}','EMCal_{HIJING,AMPT}','IHCal_{HIJING,AMPT}','OHCal_{HIJING,AMPT}']\n",
    "\n",
    "x = []\n",
    "for i in range(1, 25):\n",
    "    x.append(ihcal_detdeta_hijing.GetXaxis().GetBinCenter(i))\n",
    "xarray = array('f', x)\n",
    "\n",
    "arrays = [ehe, ihe, ohe, eea, iea, oea, eha, iha, oha]\n",
    "\n",
    "# Create a canvas\n",
    "canvas = ROOT.TCanvas(\"canvas\", \"Graphs\", 800, 600)\n",
    "\n",
    "# Create and plot TGraphs for each array\n",
    "graphs = []\n",
    "colors = [ROOT.kRed, ROOT.kBlue, ROOT.kGreen, ROOT.kOrange, ROOT.kCyan, ROOT.kMagenta, ROOT.kYellow, ROOT.kBlack, ROOT.kGray]\n",
    "for i, arr in enumerate(arrays):\n",
    "    graphs.append(ROOT.TGraph(len(xarray), xarray, arr))\n",
    "    graphs[i].SetMarkerStyle(20)\n",
    "    graphs[i].SetMarkerSize(1)\n",
    "    graphs[i].SetMarkerColor(colors[i])\n",
    "    graphs[i].GetYaxis().SetRangeUser(0,0.1)\n",
    "    if i == 0:\n",
    "        graphs[i].GetXaxis().SetTitle(\"#eta\")\n",
    "        graphs[i].GetYaxis().SetTitle(\"dE_{T}/d#eta var./dE_{T}/d#eta mean\")\n",
    "        graphs[i].Draw(\"AP\")\n",
    "    else:\n",
    "        graphs[i].Draw(\"P,same\")\n",
    "\n",
    "# Set the legend\n",
    "legend = ROOT.TLegend(0.6, 0.5, 0.9, 0.9)\n",
    "legend.AddEntry(\"\",\"#it{#bf{sPHENIX}} Internal\",\"\")\n",
    "legend.AddEntry(\"\",f\"{cent}% cent.\",\"\")\n",
    "legend.SetTextSize(0.035)\n",
    "for i, graph in enumerate(graphs):\n",
    "    legend.AddEntry(graph,leg_tags[i], \"p\")\n",
    "legend.Draw()\n",
    "\n",
    "# Draw the canvas\n",
    "canvas.Draw()\n",
    "canvas.SaveAs(\"/sphenix/u/egm2153/spring_2024/detdeta_plots/mc_variation_\"+cent+\".png\")"
   ]
  },
  {
   "cell_type": "code",
   "execution_count": 176,
   "id": "797153d2-a73a-424e-b9c4-e6249d0317ce",
   "metadata": {},
   "outputs": [
    {
     "name": "stderr",
     "output_type": "stream",
     "text": [
      "Warning in <TCanvas::Constructor>: Deleting canvas with same name: canvas\n"
     ]
    },
    {
     "data": {
      "image/png": "[encoded data removed]",
      "text/plain": [
       "<IPython.core.display.Image object>"
      ]
     },
     "metadata": {},
     "output_type": "display_data"
    }
   ],
   "source": [
    "canvas = TCanvas(\"canvas\",\"\",600,500)\n",
    "emcal_detdeta_epos.SetLineColor(2)\n",
    "emcal_detdeta_ampt.SetLineColor(3)\n",
    "emcal_detdeta_epos.SetMarkerColor(2)\n",
    "emcal_detdeta_ampt.SetMarkerColor(3)\n",
    "emcal_detdeta_hijing.GetYaxis().SetRangeUser(500,800)\n",
    "emcal_detdeta_hijing.Draw()\n",
    "emcal_detdeta_epos.Draw(\"same\")\n",
    "emcal_detdeta_ampt.Draw(\"same\")\n",
    "canvas.Draw()"
   ]
  },
  {
   "cell_type": "code",
   "execution_count": 179,
   "id": "f2a92959-84c2-4b72-b252-8d7e5f68f504",
   "metadata": {},
   "outputs": [
    {
     "name": "stderr",
     "output_type": "stream",
     "text": [
      "Warning in <TCanvas::Constructor>: Deleting canvas with same name: canvas\n"
     ]
    },
    {
     "data": {
      "image/png": "[encoded data removed]",
      "text/plain": [
       "<IPython.core.display.Image object>"
      ]
     },
     "metadata": {},
     "output_type": "display_data"
    }
   ],
   "source": [
    "canvas = TCanvas(\"canvas\",\"\",600,500)\n",
    "ihcal_detdeta_epos.SetLineColor(2)\n",
    "ihcal_detdeta_ampt.SetLineColor(3)\n",
    "ihcal_detdeta_epos.SetMarkerColor(2)\n",
    "ihcal_detdeta_ampt.SetMarkerColor(3)\n",
    "ihcal_detdeta_hijing.GetYaxis().SetRangeUser(500,800)\n",
    "ihcal_detdeta_hijing.Draw()\n",
    "ihcal_detdeta_epos.Draw(\"same\")\n",
    "ihcal_detdeta_ampt.Draw(\"same\")\n",
    "canvas.Draw()"
   ]
  },
  {
   "cell_type": "code",
   "execution_count": null,
   "id": "467e3571-62f7-40b7-af5b-e93641329fcd",
   "metadata": {},
   "outputs": [],
   "source": []
  },
  {
   "cell_type": "code",
   "execution_count": null,
   "id": "72edc58e-8f41-4776-88a3-186779f5f76f",
   "metadata": {},
   "outputs": [],
   "source": []
  },
  {
   "cell_type": "code",
   "execution_count": null,
   "id": "21a05a03-4223-4be7-81d2-1f6f440c6cf8",
   "metadata": {},
   "outputs": [],
   "source": []
  },
  {
   "cell_type": "code",
   "execution_count": null,
   "id": "2aeda74d-709e-43c0-a23c-927b02f7ae55",
   "metadata": {},
   "outputs": [],
   "source": []
  },
  {
   "cell_type": "code",
   "execution_count": null,
   "id": "7bed9cb0-c9fe-4aa3-89f2-50dcb8748929",
   "metadata": {},
   "outputs": [],
   "source": []
  }
 ],
 "metadata": {
  "kernelspec": {
   "display_name": "Python (sPHENIX)",
   "language": "python",
   "name": "sphenix-env"
  },
  "language_info": {
   "codemirror_mode": {
    "name": "ipython",
    "version": 3
   },
   "file_extension": ".py",
   "mimetype": "text/x-python",
   "name": "python",
   "nbconvert_exporter": "python",
   "pygments_lexer": "ipython3",
   "version": "3.10.8"
  }
 },
 "nbformat": 4,
 "nbformat_minor": 5
}
