{
 "cells": [
  {
   "cell_type": "code",
   "execution_count": 19,
   "id": "a335840d-1cc4-491e-a02e-c979e2256d91",
   "metadata": {},
   "outputs": [],
   "source": [
    "import ROOT\n",
    "from ROOT import TCanvas, TFile, TProfile, TNtuple, TH1I, TH1F, TH2F, TH3F, TColor, TEfficiency\n",
    "from ROOT import gROOT, gBenchmark, gRandom, gSystem\n",
    "import numpy as np\n",
    "import pdb"
   ]
  },
  {
   "cell_type": "code",
   "execution_count": 2,
   "id": "2ef7f8e3-13c3-445e-97a4-98629cf00c6f",
   "metadata": {},
   "outputs": [
    {
     "name": "stdout",
     "output_type": "stream",
     "text": [
      "/direct/sphenix+u/egm2153/spring_2023\n"
     ]
    },
    {
     "data": {
      "text/plain": [
       "0"
      ]
     },
     "execution_count": 2,
     "metadata": {},
     "output_type": "execute_result"
    },
    {
     "name": "stdout",
     "output_type": "stream",
     "text": [
      "sPhenixStyle: Applying nominal settings.\n",
      "sPhenixStyle: ROOT6 mode\n"
     ]
    }
   ],
   "source": [
    "%cd /sphenix/u/egm2153/spring_2023\n",
    "gROOT.LoadMacro(\"sPhenixStyle.C\");\n",
    "gROOT.ProcessLine(\"SetsPhenixStyle()\")"
   ]
  },
  {
   "cell_type": "code",
   "execution_count": 34,
   "id": "94e4ee7d-ac83-4a11-9076-5a093be74929",
   "metadata": {},
   "outputs": [
    {
     "name": "stdout",
     "output_type": "stream",
     "text": [
      "/gpfs/mnt/gpfs02/sphenix/user/egm2153/calib_study/detdeta/analysis/runs23727_23746\n"
     ]
    }
   ],
   "source": [
    "%cd /sphenix/user/egm2153/calib_study/detdeta/analysis/runs23727_23746"
   ]
  },
  {
   "cell_type": "code",
   "execution_count": 35,
   "id": "1179a893-1084-494f-956d-5cd5aebfc683",
   "metadata": {},
   "outputs": [],
   "source": [
    "runs = ['23727','23735','23737','23738','23739','23740','23743','23745']\n",
    "\n",
    "emcal_plots = []\n",
    "ihcal_plots = []\n",
    "ohcal_plots = []\n",
    "\n",
    "for i, run in enumerate(runs):\n",
    "    filename = \"run\"+run+\"_hotdeadmap_z_-20_20_new_status.root\"\n",
    "    f = ROOT.TFile.Open(filename)\n",
    "    emcal_plots.append(ROOT.TH2F(f.Get(\"h_2D_hot_dead_emcal\")))\n",
    "    emcal_plots[i].SetDirectory(0)\n",
    "    ihcal_plots.append(ROOT.TH2F(f.Get(\"h_2D_hot_dead_ihcal\")))\n",
    "    ihcal_plots[i].SetDirectory(0)\n",
    "    ohcal_plots.append(ROOT.TH2F(f.Get(\"h_2D_hot_dead_ohcal\")))\n",
    "    ohcal_plots[i].SetDirectory(0)\n",
    "    f.Close()\n",
    "\n",
    "#f9 = ROOT.TFile.Open(\"run23727_23745_hotdeadmap_z_-20_20_p011.root\")\n",
    "#h_all_hot_dead_emcal = TH2F(f9.Get(\"h_2D_hot_dead_emcal\"))\n",
    "#h_all_hot_dead_ihcal = TH2F(f9.Get(\"h_2D_hot_dead_ihcal\"))\n",
    "#h_all_hot_dead_ohcal = TH2F(f9.Get(\"h_2D_hot_dead_ohcal\"))\n",
    "#h_all_hot_dead_emcal.SetDirectory(0)\n",
    "#h_all_hot_dead_ihcal.SetDirectory(0)\n",
    "#h_all_hot_dead_ohcal.SetDirectory(0)\n",
    "#f9.Close()"
   ]
  },
  {
   "cell_type": "code",
   "execution_count": 36,
   "id": "2bde9398-736e-4386-99cb-ec7d43b6deac",
   "metadata": {},
   "outputs": [
    {
     "name": "stderr",
     "output_type": "stream",
     "text": [
      "Warning in <TCanvas::Constructor>: Deleting canvas with same name: canvas\n",
      "Info in <TCanvas::Print>: png file /sphenix/u/egm2153/spring_2024/results_3_12/emcal_ht_23727.png has been created\n",
      "Warning in <TCanvas::Constructor>: Deleting canvas with same name: canvas\n",
      "Info in <TCanvas::Print>: png file /sphenix/u/egm2153/spring_2024/results_3_12/emcal_ht_23735.png has been created\n",
      "Warning in <TCanvas::Constructor>: Deleting canvas with same name: canvas\n",
      "Info in <TCanvas::Print>: png file /sphenix/u/egm2153/spring_2024/results_3_12/emcal_ht_23737.png has been created\n",
      "Warning in <TCanvas::Constructor>: Deleting canvas with same name: canvas\n",
      "Info in <TCanvas::Print>: png file /sphenix/u/egm2153/spring_2024/results_3_12/emcal_ht_23738.png has been created\n",
      "Warning in <TCanvas::Constructor>: Deleting canvas with same name: canvas\n",
      "Info in <TCanvas::Print>: png file /sphenix/u/egm2153/spring_2024/results_3_12/emcal_ht_23739.png has been created\n",
      "Warning in <TCanvas::Constructor>: Deleting canvas with same name: canvas\n",
      "Info in <TCanvas::Print>: png file /sphenix/u/egm2153/spring_2024/results_3_12/emcal_ht_23740.png has been created\n",
      "Warning in <TCanvas::Constructor>: Deleting canvas with same name: canvas\n",
      "Info in <TCanvas::Print>: png file /sphenix/u/egm2153/spring_2024/results_3_12/emcal_ht_23743.png has been created\n",
      "Warning in <TCanvas::Constructor>: Deleting canvas with same name: canvas\n",
      "Info in <TCanvas::Print>: png file /sphenix/u/egm2153/spring_2024/results_3_12/emcal_ht_23745.png has been created\n"
     ]
    }
   ],
   "source": [
    "for i in range(len(emcal_plots)):\n",
    "    canvas = TCanvas(\"canvas\",\"\",600,500)\n",
    "    emcal_plots[i].SetXTitle(\"i#eta\")\n",
    "    emcal_plots[i].SetYTitle(\"i#phi\")\n",
    "    emcal_plots[i].SetTitle(f\"Run {runs[i]} EMCal bad tower mask\")\n",
    "    emcal_plots[i].GetZaxis().SetRangeUser(0,2)\n",
    "    emcal_plots[i].SetStats(0)\n",
    "    emcal_plots[i].Draw('colz')\n",
    "    #canvas.Draw()                    \n",
    "    canvas.SaveAs(f\"/sphenix/u/egm2153/spring_2024/results_3_12/emcal_ht_{runs[i]}.png\")"
   ]
  },
  {
   "cell_type": "code",
   "execution_count": 37,
   "id": "c2353ba1-3be0-4528-9735-fe48c119b6dc",
   "metadata": {},
   "outputs": [
    {
     "name": "stderr",
     "output_type": "stream",
     "text": [
      "Warning in <TCanvas::Constructor>: Deleting canvas with same name: canvas\n",
      "Info in <TCanvas::Print>: png file /sphenix/u/egm2153/spring_2024/results_3_12/ihcal_ht_23727.png has been created\n",
      "Warning in <TCanvas::Constructor>: Deleting canvas with same name: canvas\n",
      "Info in <TCanvas::Print>: png file /sphenix/u/egm2153/spring_2024/results_3_12/ihcal_ht_23735.png has been created\n",
      "Warning in <TCanvas::Constructor>: Deleting canvas with same name: canvas\n",
      "Info in <TCanvas::Print>: png file /sphenix/u/egm2153/spring_2024/results_3_12/ihcal_ht_23737.png has been created\n",
      "Warning in <TCanvas::Constructor>: Deleting canvas with same name: canvas\n",
      "Info in <TCanvas::Print>: png file /sphenix/u/egm2153/spring_2024/results_3_12/ihcal_ht_23738.png has been created\n",
      "Warning in <TCanvas::Constructor>: Deleting canvas with same name: canvas\n",
      "Info in <TCanvas::Print>: png file /sphenix/u/egm2153/spring_2024/results_3_12/ihcal_ht_23739.png has been created\n",
      "Warning in <TCanvas::Constructor>: Deleting canvas with same name: canvas\n",
      "Info in <TCanvas::Print>: png file /sphenix/u/egm2153/spring_2024/results_3_12/ihcal_ht_23740.png has been created\n",
      "Warning in <TCanvas::Constructor>: Deleting canvas with same name: canvas\n",
      "Info in <TCanvas::Print>: png file /sphenix/u/egm2153/spring_2024/results_3_12/ihcal_ht_23743.png has been created\n",
      "Warning in <TCanvas::Constructor>: Deleting canvas with same name: canvas\n",
      "Info in <TCanvas::Print>: png file /sphenix/u/egm2153/spring_2024/results_3_12/ihcal_ht_23745.png has been created\n"
     ]
    }
   ],
   "source": [
    "for i in range(len(ihcal_plots)):\n",
    "    canvas = TCanvas(\"canvas\",\"\",600,500)\n",
    "    ihcal_plots[i].SetXTitle(\"i#eta\")\n",
    "    ihcal_plots[i].SetYTitle(\"i#phi\")\n",
    "    ihcal_plots[i].SetTitle(f\"Run {runs[i]} IHCal bad tower mask\")\n",
    "    ihcal_plots[i].GetZaxis().SetRangeUser(0,2)\n",
    "    ihcal_plots[i].SetStats(0)\n",
    "    ihcal_plots[i].Draw('colz')\n",
    "    #canvas.Draw()                    \n",
    "    canvas.SaveAs(f\"/sphenix/u/egm2153/spring_2024/results_3_12/ihcal_ht_{runs[i]}.png\")"
   ]
  },
  {
   "cell_type": "code",
   "execution_count": 38,
   "id": "ad048fb7-9786-4166-8456-44985c0d3010",
   "metadata": {},
   "outputs": [
    {
     "name": "stderr",
     "output_type": "stream",
     "text": [
      "Warning in <TCanvas::Constructor>: Deleting canvas with same name: canvas\n",
      "Info in <TCanvas::Print>: png file /sphenix/u/egm2153/spring_2024/results_3_12/ohcal_ht_23727.png has been created\n",
      "Warning in <TCanvas::Constructor>: Deleting canvas with same name: canvas\n",
      "Info in <TCanvas::Print>: png file /sphenix/u/egm2153/spring_2024/results_3_12/ohcal_ht_23735.png has been created\n",
      "Warning in <TCanvas::Constructor>: Deleting canvas with same name: canvas\n",
      "Info in <TCanvas::Print>: png file /sphenix/u/egm2153/spring_2024/results_3_12/ohcal_ht_23737.png has been created\n",
      "Warning in <TCanvas::Constructor>: Deleting canvas with same name: canvas\n",
      "Info in <TCanvas::Print>: png file /sphenix/u/egm2153/spring_2024/results_3_12/ohcal_ht_23738.png has been created\n",
      "Warning in <TCanvas::Constructor>: Deleting canvas with same name: canvas\n",
      "Info in <TCanvas::Print>: png file /sphenix/u/egm2153/spring_2024/results_3_12/ohcal_ht_23739.png has been created\n",
      "Warning in <TCanvas::Constructor>: Deleting canvas with same name: canvas\n",
      "Info in <TCanvas::Print>: png file /sphenix/u/egm2153/spring_2024/results_3_12/ohcal_ht_23740.png has been created\n",
      "Warning in <TCanvas::Constructor>: Deleting canvas with same name: canvas\n",
      "Info in <TCanvas::Print>: png file /sphenix/u/egm2153/spring_2024/results_3_12/ohcal_ht_23743.png has been created\n",
      "Warning in <TCanvas::Constructor>: Deleting canvas with same name: canvas\n",
      "Info in <TCanvas::Print>: png file /sphenix/u/egm2153/spring_2024/results_3_12/ohcal_ht_23745.png has been created\n"
     ]
    }
   ],
   "source": [
    "for i in range(len(ohcal_plots)):\n",
    "    canvas = TCanvas(\"canvas\",\"\",600,500)\n",
    "    ohcal_plots[i].SetXTitle(\"i#eta\")\n",
    "    ohcal_plots[i].SetYTitle(\"i#phi\")\n",
    "    ohcal_plots[i].SetTitle(f\"Run {runs[i]} OHCal bad tower mask\")\n",
    "    ohcal_plots[i].GetZaxis().SetRangeUser(0,2)\n",
    "    ohcal_plots[i].SetStats(0)\n",
    "    ohcal_plots[i].Draw('colz')\n",
    "    #canvas.Draw()                    \n",
    "    canvas.SaveAs(f\"/sphenix/u/egm2153/spring_2024/results_3_12/ohcal_ht_{runs[i]}.png\")"
   ]
  },
  {
   "cell_type": "code",
   "execution_count": 49,
   "id": "1870457d-3f58-4073-b207-c0490e5ff43d",
   "metadata": {},
   "outputs": [
    {
     "name": "stdout",
     "output_type": "stream",
     "text": [
      "43\n"
     ]
    }
   ],
   "source": [
    "counter = 0\n",
    "for i in range(1, h_23727_hot_dead_emcal.GetNbinsX() + 1):\n",
    "    for j in range(1, h_23727_hot_dead_emcal.GetNbinsY() + 1):\n",
    "        if h_23737_hot_dead_emcal.GetBinContent(h_23737_hot_dead_emcal.FindBin(i-1, j-1)) != 0 and h_23735_hot_dead_emcal.GetBinContent(h_23735_hot_dead_emcal.FindBin(i-1, j-1)) == 0:\n",
    "            counter += 1\n",
    "            #print(i-1, j-1) #, h_2D_hot_dead_emcal.GetBinContent(h_2D_hot_dead_emcal.FindBin(i-1, j-1)), h_2D_good_hot_emcal.GetBinContent(h_2D_good_hot_emcal.FindBin(i-1, j-1)))\n",
    "print(counter)"
   ]
  },
  {
   "cell_type": "code",
   "execution_count": 8,
   "id": "d5ab8dbb-9f85-4b82-b498-c9876d375520",
   "metadata": {},
   "outputs": [
    {
     "name": "stdout",
     "output_type": "stream",
     "text": [
      "0\n"
     ]
    }
   ],
   "source": [
    "counter = 0\n",
    "for i in range(1, h_23727_hot_dead_emcal.GetNbinsX() + 1):\n",
    "    for j in range(1, h_23727_hot_dead_emcal.GetNbinsY() + 1):\n",
    "        if h_23737_hot_dead_emcal.GetBinContent(h_23737_hot_dead_emcal.FindBin(i-1, j-1)) == 0 and h_23735_hot_dead_emcal.GetBinContent(h_23735_hot_dead_emcal.FindBin(i-1, j-1)) != 0:\n",
    "            counter += 1\n",
    "            #print(i-1, j-1) #, h_2D_hot_dead_emcal.GetBinContent(h_2D_hot_dead_emcal.FindBin(i-1, j-1)), h_2D_good_hot_emcal.GetBinContent(h_2D_good_hot_emcal.FindBin(i-1, j-1)))\n",
    "print(counter)"
   ]
  },
  {
   "cell_type": "code",
   "execution_count": 51,
   "id": "3aca463d-268e-43c2-b295-d8bcbd89f916",
   "metadata": {},
   "outputs": [
    {
     "name": "stdout",
     "output_type": "stream",
     "text": [
      "43\n"
     ]
    }
   ],
   "source": [
    "counter = 0\n",
    "for i in range(1, h_23735_hot_dead_emcal.GetNbinsX() + 1):\n",
    "    for j in range(1, h_23735_hot_dead_emcal.GetNbinsY() + 1):\n",
    "        if h_23735_hot_dead_emcal.GetBinContent(h_23735_hot_dead_emcal.FindBin(i-1, j-1)) != 0:\n",
    "            counter += 1\n",
    "            #print(i-1, j-1) #, h_2D_hot_dead_emcal.GetBinContent(h_2D_hot_dead_emcal.FindBin(i-1, j-1)), h_2D_good_hot_emcal.GetBinContent(h_2D_good_hot_emcal.FindBin(i-1, j-1)))\n",
    "print(3467-counter)"
   ]
  },
  {
   "cell_type": "code",
   "execution_count": null,
   "id": "43467022-092f-4255-8238-97f0c6287d6d",
   "metadata": {},
   "outputs": [],
   "source": [
    "# 3467 total\n",
    "#"
   ]
  }
 ],
 "metadata": {
  "kernelspec": {
   "display_name": "Python (sPHENIX)",
   "language": "python",
   "name": "sphenix-env"
  },
  "language_info": {
   "codemirror_mode": {
    "name": "ipython",
    "version": 3
   },
   "file_extension": ".py",
   "mimetype": "text/x-python",
   "name": "python",
   "nbconvert_exporter": "python",
   "pygments_lexer": "ipython3",
   "version": "3.10.8"
  }
 },
 "nbformat": 4,
 "nbformat_minor": 5
}
