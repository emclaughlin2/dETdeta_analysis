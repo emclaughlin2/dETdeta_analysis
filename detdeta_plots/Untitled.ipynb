{
 "cells": [
  {
   "cell_type": "code",
   "execution_count": 1,
   "id": "f010f3eb-79da-42b9-b8fb-ccb206d59aa9",
   "metadata": {},
   "outputs": [
    {
     "name": "stdout",
     "output_type": "stream",
     "text": [
      "Welcome to JupyROOT 6.26/06\n"
     ]
    }
   ],
   "source": [
    "import ROOT\n",
    "from ROOT import TCanvas, TFile, TProfile, TNtuple, TH1I, TH1F, TH2F, TH3F, TColor, TEfficiency\n",
    "from ROOT import gROOT, gBenchmark, gRandom, gSystem\n",
    "import numpy as np\n",
    "import pdb\n",
    "from array import array"
   ]
  },
  {
   "cell_type": "code",
   "execution_count": 3,
   "id": "9aa5f886-cd91-41da-9961-43eb6554f93b",
   "metadata": {},
   "outputs": [
    {
     "name": "stdout",
     "output_type": "stream",
     "text": [
      "/direct/sphenix+u/egm2153/spring_2023\n"
     ]
    },
    {
     "data": {
      "text/plain": [
       "0"
      ]
     },
     "execution_count": 3,
     "metadata": {},
     "output_type": "execute_result"
    },
    {
     "name": "stdout",
     "output_type": "stream",
     "text": [
      "sPhenixStyle: Applying nominal settings.\n",
      "sPhenixStyle: ROOT6 mode\n"
     ]
    }
   ],
   "source": [
    "%cd /sphenix/u/egm2153/spring_2023\n",
    "gROOT.LoadMacro(\"sPhenixStyle.C\");\n",
    "gROOT.ProcessLine(\"SetsPhenixStyle()\")"
   ]
  },
  {
   "cell_type": "code",
   "execution_count": 4,
   "id": "016a4e96-4031-439b-b135-75a2c29e5854",
   "metadata": {},
   "outputs": [
    {
     "name": "stdout",
     "output_type": "stream",
     "text": [
      "/gpfs/mnt/gpfs02/sphenix/user/egm2153/calib_study/detdeta/analysis/runs23727_23746\n"
     ]
    }
   ],
   "source": [
    "%cd /sphenix/user/egm2153/calib_study/detdeta/analysis/runs23727_23746"
   ]
  },
  {
   "cell_type": "code",
   "execution_count": 24,
   "id": "e0e0568e-4738-4c99-bea3-c0359eecbcf8",
   "metadata": {},
   "outputs": [],
   "source": [
    "mcfile = 'dETdeta_analysis_23727_z=0_no_em_hottowers+fullEmcal_nozs_mc_noweight_0-90_ampt.root'\n",
    "f1 = ROOT.TFile.Open(mcfile)\n",
    "h_eT_sim_emcal = TH1F(f1.Get(\"h_eT_emcal\"))\n",
    "h_eT_sim_ihcal = TH1F(f1.Get(\"h_eT_ihcal\"))\n",
    "h_eT_sim_ohcal = TH1F(f1.Get(\"h_eT_ohcal\"))\n",
    "h_eT_sim_emcal.SetDirectory(0)\n",
    "h_eT_sim_ihcal.SetDirectory(0)\n",
    "h_eT_sim_ohcal.SetDirectory(0)\n",
    "h_truth = TH1F(f1.Get(\"hetdeta_ihcalbin\"))\n",
    "h_truth_ohcal = TH1F(f1.Get(\"hetdeta_ohcalbin\"))\n",
    "h_truth.SetDirectory(0)\n",
    "h_truth_ohcal.SetDirectory(0)\n",
    "f1.Close()"
   ]
  },
  {
   "cell_type": "code",
   "execution_count": 25,
   "id": "0e7d3f5e-fd08-409a-b6b4-4ffc254ac87d",
   "metadata": {},
   "outputs": [],
   "source": [
    "h_corr_emcal = TH1F(h_eT_sim_emcal.Clone(\"h_corr_emcal\"))\n",
    "h_corr_emcal.Divide(h_truth)\n",
    "h_corr_ihcal = TH1F(h_eT_sim_ihcal.Clone(\"h_corr_ihcal\"))\n",
    "h_corr_ihcal.Divide(h_truth)\n",
    "h_corr_ohcal = TH1F(h_eT_sim_ohcal.Clone(\"h_corr_ohcal\"))\n",
    "h_corr_ohcal.Divide(h_truth_ohcal)\n",
    "h_corr_calo = TH1F(h_eT_sim_emcal.Clone(\"h_corr_calo\"))\n",
    "for i in range(1, h_corr_calo.GetNbinsX() + 1):\n",
    "    h_corr_calo.SetBinContent(i, h_corr_emcal.GetBinContent(i) + h_corr_ihcal.GetBinContent(i) + h_corr_ohcal.GetBinContent(i))\n",
    "    h_corr_calo.SetBinError(i, np.sqrt(h_corr_emcal.GetBinError(i)**2 + h_corr_ihcal.GetBinError(i)**2 + h_corr_ohcal.GetBinError(i)**2))"
   ]
  },
  {
   "cell_type": "code",
   "execution_count": 13,
   "id": "830aabc4-96aa-4c0b-8b55-23f42216ed0b",
   "metadata": {},
   "outputs": [
    {
     "name": "stderr",
     "output_type": "stream",
     "text": [
      "Warning in <TCanvas::Constructor>: Deleting canvas with same name: canvas\n"
     ]
    },
    {
     "data": {
      "image/png": "[encoded data removed]",
      "text/plain": [
       "<IPython.core.display.Image object>"
      ]
     },
     "metadata": {},
     "output_type": "display_data"
    }
   ],
   "source": [
    "canvas = TCanvas(\"canvas\",\"\",600,500)\n",
    "h_corr_emcal.GetYaxis().SetRangeUser(0,1)\n",
    "h_corr_emcal.Draw()\n",
    "canvas.Draw()"
   ]
  },
  {
   "cell_type": "code",
   "execution_count": 14,
   "id": "55d1511b-8fa5-45be-8216-e13a87cca2a0",
   "metadata": {},
   "outputs": [
    {
     "name": "stderr",
     "output_type": "stream",
     "text": [
      "Warning in <TCanvas::Constructor>: Deleting canvas with same name: canvas\n"
     ]
    },
    {
     "data": {
      "image/png": "[encoded data removed]",
      "text/plain": [
       "<IPython.core.display.Image object>"
      ]
     },
     "metadata": {},
     "output_type": "display_data"
    }
   ],
   "source": [
    "canvas = TCanvas(\"canvas\",\"\",600,500)\n",
    "h_corr_ihcal.GetYaxis().SetRangeUser(0,1)\n",
    "h_corr_ihcal.Draw()\n",
    "canvas.Draw()"
   ]
  },
  {
   "cell_type": "code",
   "execution_count": 15,
   "id": "fecbb3c9-bf47-4f90-8720-d7ca6cd17464",
   "metadata": {},
   "outputs": [
    {
     "name": "stderr",
     "output_type": "stream",
     "text": [
      "Warning in <TCanvas::Constructor>: Deleting canvas with same name: canvas\n"
     ]
    },
    {
     "data": {
      "image/png": "[encoded data removed]",
      "text/plain": [
       "<IPython.core.display.Image object>"
      ]
     },
     "metadata": {},
     "output_type": "display_data"
    }
   ],
   "source": [
    "canvas = TCanvas(\"canvas\",\"\",600,500)\n",
    "h_corr_ohcal.GetYaxis().SetRangeUser(0,1)\n",
    "h_corr_ohcal.Draw()\n",
    "canvas.Draw()"
   ]
  },
  {
   "cell_type": "code",
   "execution_count": 26,
   "id": "20db25c9-e45d-4a8d-8949-cf0330d8297f",
   "metadata": {},
   "outputs": [
    {
     "name": "stderr",
     "output_type": "stream",
     "text": [
      "Warning in <TCanvas::Constructor>: Deleting canvas with same name: canvas\n"
     ]
    },
    {
     "data": {
      "image/png": "[encoded data removed]",
      "text/plain": [
       "<IPython.core.display.Image object>"
      ]
     },
     "metadata": {},
     "output_type": "display_data"
    }
   ],
   "source": [
    "canvas = TCanvas(\"canvas\",\"\",600,500)\n",
    "h_corr_calo.GetYaxis().SetRangeUser(0,1.4)\n",
    "h_corr_calo.Draw()\n",
    "canvas.Draw()"
   ]
  },
  {
   "cell_type": "code",
   "execution_count": null,
   "id": "b3351bfe-aa39-4571-98d7-4b93eae79962",
   "metadata": {},
   "outputs": [],
   "source": []
  }
 ],
 "metadata": {
  "kernelspec": {
   "display_name": "Python (sPHENIX)",
   "language": "python",
   "name": "sphenix-env"
  },
  "language_info": {
   "codemirror_mode": {
    "name": "ipython",
    "version": 3
   },
   "file_extension": ".py",
   "mimetype": "text/x-python",
   "name": "python",
   "nbconvert_exporter": "python",
   "pygments_lexer": "ipython3",
   "version": "3.10.8"
  }
 },
 "nbformat": 4,
 "nbformat_minor": 5
}
