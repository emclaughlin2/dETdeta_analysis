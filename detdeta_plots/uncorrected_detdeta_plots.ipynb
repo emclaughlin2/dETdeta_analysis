{
 "cells": [
  {
   "cell_type": "code",
   "execution_count": 12,
   "id": "37f385e0-d927-48f9-958c-d91b6ae80e46",
   "metadata": {},
   "outputs": [],
   "source": [
    "import ROOT\n",
    "from ROOT import TCanvas, TFile, TProfile, TNtuple, TH1I, TH1F, TH2F, TH3F, TColor, TEfficiency\n",
    "from ROOT import gROOT, gBenchmark, gRandom, gSystem\n",
    "import numpy as np\n",
    "import pdb\n",
    "from array import array"
   ]
  },
  {
   "cell_type": "code",
   "execution_count": 13,
   "id": "b0266dde-707c-413d-bde5-f97201132ee0",
   "metadata": {},
   "outputs": [
    {
     "name": "stdout",
     "output_type": "stream",
     "text": [
      "/direct/sphenix+u/egm2153/spring_2023\n"
     ]
    },
    {
     "data": {
      "text/plain": [
       "0"
      ]
     },
     "execution_count": 13,
     "metadata": {},
     "output_type": "execute_result"
    },
    {
     "name": "stdout",
     "output_type": "stream",
     "text": [
      "sPhenixStyle: Applying nominal settings.\n",
      "sPhenixStyle: ROOT6 mode\n"
     ]
    }
   ],
   "source": [
    "%cd /sphenix/u/egm2153/spring_2023\n",
    "gROOT.LoadMacro(\"sPhenixStyle.C\");\n",
    "gROOT.ProcessLine(\"SetsPhenixStyle()\")"
   ]
  },
  {
   "cell_type": "code",
   "execution_count": 14,
   "id": "31156cee-399a-4585-bddd-7649e72c2b28",
   "metadata": {},
   "outputs": [
    {
     "name": "stdout",
     "output_type": "stream",
     "text": [
      "/gpfs/mnt/gpfs02/sphenix/user/egm2153/calib_study/detdeta/analysis/runs23727_23746\n"
     ]
    }
   ],
   "source": [
    "%cd /sphenix/user/egm2153/calib_study/detdeta/analysis/runs23727_23746"
   ]
  },
  {
   "cell_type": "code",
   "execution_count": 4,
   "id": "90af2cb2-5201-446d-87ee-62bf469b2465",
   "metadata": {},
   "outputs": [],
   "source": [
    "#runs = ['23727','23735','23737','23738','23739','23740','23743','23745']\n",
    "cent = '0-5'\n",
    "lowbound = {'0-5': 400, '5-10':300, '10-20':200, '20-30':100, '30-40':80, '40-50':60, '50-60':30}\n",
    "highbound = {'0-5': 1300, '5-10':1200, '10-20':900, '20-30':700, '30-40':450, '40-50':350, '50-60':150}\n",
    "starmean = {'0-5': 620, '5-10':515, '10-20':402, '20-30':279, '30-40':187, '40-50':118, '50-60':70}\n",
    "phenixmean = {'0-5': 599, '5-10':498.7, '10-20':367.8, '20-30':248.5, '30-40':162.7, '40-50':101.1, '50-60':58.6}\n",
    "staruncert = {'0-5': 33, '5-10':28, '10-20':21, '20-30':15, '30-40':10, '40-50':6, '50-60':4}\n",
    "phenixuncert = {'0-5': 24.7, '5-10':28.9, '10-20':23.1, '20-30':17.5, '30-40':13.5, '40-50':9.8, '50-60':7.4}\n",
    "\n",
    "f1 = ROOT.TFile.Open(\"MC/dETdeta_analysis_allruns_hijing_run14_nozs_mc_reweight_\"+cent+\"_reweight_hijing.root\")\n",
    "h_eT_truth = TH1F(f1.Get(\"hetdeta_ihcalbin\"))\n",
    "h_eT_truth_ihcalbin = TH1F(f1.Get(\"hetdeta_ihcalbin\"))\n",
    "h_eT_truth_ohcalbin = TH1F(f1.Get(\"hetdeta_ohcalbin\"))\n",
    "h_eT_truth_calobin = TH1F(f1.Get(\"hetdeta_calobin\"))\n",
    "h_eT_sim_emcal = TH1F(f1.Get(\"h_eT_emcal\"))\n",
    "h_eT_sim_ihcal = TH1F(f1.Get(\"h_eT_ihcal\"))\n",
    "h_eT_sim_ohcal = TH1F(f1.Get(\"h_eT_ohcal\"))\n",
    "h_eT_sim_calo = TH1F(f1.Get(\"h_eT_calo\"))\n",
    "h_eT_truth.SetDirectory(0)\n",
    "h_eT_truth_ihcalbin.SetDirectory(0)\n",
    "h_eT_truth_ohcalbin.SetDirectory(0)\n",
    "h_eT_truth_calobin.SetDirectory(0)\n",
    "h_eT_sim_emcal.SetDirectory(0)\n",
    "h_eT_sim_ihcal.SetDirectory(0)\n",
    "h_eT_sim_ohcal.SetDirectory(0)\n",
    "h_eT_sim_calo.SetDirectory(0)\n",
    "f1.Close()\n",
    "f2 = ROOT.TFile.Open(\"new_cent_bins/dETdeta_analysis_allruns_HCal_zs_30ADC_EMCal_zs_40ADC_data_noweight_\"+cent+\".root\")\n",
    "h_eT_data_emcal = TH1F(f2.Get(\"h_eT_emcal\"))\n",
    "h_eT_data_ihcal = TH1F(f2.Get(\"h_eT_ihcal\"))\n",
    "h_eT_data_ohcal = TH1F(f2.Get(\"h_eT_ohcal\"))\n",
    "h_eT_data_calo = TH1F(f2.Get(\"h_eT_calo\"))\n",
    "h_eT_data_emcal.SetDirectory(0)\n",
    "h_eT_data_ihcal.SetDirectory(0)\n",
    "h_eT_data_ohcal.SetDirectory(0)\n",
    "h_eT_data_calo.SetDirectory(0)\n",
    "f2.Close()\n",
    "f3 = ROOT.TFile.Open(\"MC/dETdeta_analysis_allruns_run14_nozs_mc_reweight_\"+cent+\"_reweight_epos.root\")\n",
    "h_eT_truth_epos = TH1F(f3.Get(\"hetdeta_ihcalbin\"))\n",
    "h_eT_truth_ihcalbin_epos = TH1F(f3.Get(\"hetdeta_ihcalbin\"))\n",
    "h_eT_truth_ohcalbin_epos = TH1F(f3.Get(\"hetdeta_ohcalbin\"))\n",
    "h_eT_truth_calobin_epos = TH1F(f3.Get(\"hetdeta_calobin\"))\n",
    "h_eT_epos_emcal = TH1F(f3.Get(\"h_eT_emcal\"))\n",
    "h_eT_epos_ihcal = TH1F(f3.Get(\"h_eT_ihcal\"))\n",
    "h_eT_epos_ohcal = TH1F(f3.Get(\"h_eT_ohcal\"))\n",
    "h_eT_epos_calo = TH1F(f3.Get(\"h_eT_calo\"))\n",
    "h_eT_truth_epos.SetDirectory(0)\n",
    "h_eT_truth_ihcalbin_epos.SetDirectory(0)\n",
    "h_eT_truth_ohcalbin_epos.SetDirectory(0)\n",
    "h_eT_truth_calobin_epos.SetDirectory(0)\n",
    "h_eT_epos_emcal.SetDirectory(0)\n",
    "h_eT_epos_ihcal.SetDirectory(0)\n",
    "h_eT_epos_ohcal.SetDirectory(0)\n",
    "h_eT_epos_calo.SetDirectory(0)\n",
    "f3.Close()\n",
    "f4 = ROOT.TFile.Open(\"MC/dETdeta_analysis_allruns_run14_nozs_mc_reweight_\"+cent+\"_reweight_ampt.root\")\n",
    "h_eT_truth_ampt = TH1F(f4.Get(\"hetdeta_ihcalbin\"))\n",
    "h_eT_truth_ihcalbin_ampt = TH1F(f4.Get(\"hetdeta_ihcalbin\"))\n",
    "h_eT_truth_ohcalbin_ampt = TH1F(f4.Get(\"hetdeta_ohcalbin\"))\n",
    "h_eT_truth_calobin_ampt = TH1F(f4.Get(\"hetdeta_calobin\"))\n",
    "h_eT_ampt_emcal = TH1F(f4.Get(\"h_eT_emcal\"))\n",
    "h_eT_ampt_ihcal = TH1F(f4.Get(\"h_eT_ihcal\"))\n",
    "h_eT_ampt_ohcal = TH1F(f4.Get(\"h_eT_ohcal\"))\n",
    "h_eT_ampt_calo = TH1F(f4.Get(\"h_eT_calo\"))\n",
    "h_eT_truth_ampt.SetDirectory(0)\n",
    "h_eT_truth_ihcalbin_ampt.SetDirectory(0)\n",
    "h_eT_truth_ohcalbin_ampt.SetDirectory(0)\n",
    "h_eT_truth_calobin_ampt.SetDirectory(0)\n",
    "h_eT_ampt_emcal.SetDirectory(0)\n",
    "h_eT_ampt_ihcal.SetDirectory(0)\n",
    "h_eT_ampt_ohcal.SetDirectory(0)\n",
    "h_eT_ampt_calo.SetDirectory(0)\n",
    "f4.Close()\n",
    "f5 = ROOT.TFile.Open(\"dETdeta_total_variation_\"+cent+\".root\")\n",
    "emcal_unc = TH1F(f5.Get(\"emcal_detdeta_dev\"))\n",
    "ihcal_unc = TH1F(f5.Get(\"ihcal_detdeta_dev\"))\n",
    "ohcal_unc = TH1F(f5.Get(\"ohcal_detdeta_dev\"))\n",
    "calo_unc = TH1F(f5.Get(\"calo_detdeta_dev\"))\n",
    "emcal_unc.SetDirectory(0)\n",
    "ihcal_unc.SetDirectory(0)\n",
    "ohcal_unc.SetDirectory(0)\n",
    "calo_unc.SetDirectory(0)\n",
    "f5.Close()"
   ]
  },
  {
   "cell_type": "code",
   "execution_count": 9,
   "id": "16ff246c-c5d2-4f10-a990-0babd642a08a",
   "metadata": {},
   "outputs": [
    {
     "name": "stderr",
     "output_type": "stream",
     "text": [
      "Warning in <TCanvas::Constructor>: Deleting canvas with same name: canvas\n",
      "Info in <TCanvas::Print>: png file /sphenix/u/egm2153/spring_2024/detdeta_plots/emcal_uncorrected_0-5.png has been created\n"
     ]
    },
    {
     "data": {
      "image/png": "[encoded data removed]",
      "text/plain": [
       "<IPython.core.display.Image object>"
      ]
     },
     "metadata": {},
     "output_type": "display_data"
    }
   ],
   "source": [
    "canvas = TCanvas(\"canvas\",\"\",600,500)\n",
    "leg = ROOT.TLegend(.3,.6,.7,.89)\n",
    "if cent == '0-5' or cent == '5-10':\n",
    "    leg = ROOT.TLegend(.3,.2,.7,.4)\n",
    "leg.AddEntry(\"\",\"#it{#bf{sPHENIX}} Internal\",\"\")\n",
    "leg.AddEntry(\"\",\"#sqrt{s_{NN}} = 200 GeV Au+Au\",\"\")\n",
    "leg.AddEntry(\"\",f\"{cent}% cent.\",\"\")\n",
    "#leg.AddEntry(h_eT_data_emcal,\"Data\",\"lep\")\n",
    "#leg.AddEntry(h_eT_sim_emcal,\"Reweighted Hijing\",\"lep\")\n",
    "#leg.AddEntry(h_eT_epos_emcal,\"Reweighted EPOS\",\"lep\")\n",
    "#leg.AddEntry(h_eT_ampt_emcal,\"Reweighted AMPT\",\"lep\")\n",
    "leg.SetBorderSize(0)\n",
    "h_eT_data_emcal.SetLineColor(1)\n",
    "h_eT_sim_emcal.SetLineColor(2)\n",
    "h_eT_ampt_emcal.SetLineColor(4)\n",
    "h_eT_epos_emcal.SetLineColor(3)\n",
    "h_eT_data_emcal.SetMarkerStyle(20)\n",
    "h_eT_sim_emcal.SetMarkerStyle(8)\n",
    "h_eT_sim_emcal.SetMarkerSize(0.7)\n",
    "h_eT_sim_emcal.SetMarkerColor(2)\n",
    "h_eT_ampt_emcal.SetMarkerStyle(8)\n",
    "h_eT_ampt_emcal.SetMarkerSize(0.7)\n",
    "h_eT_ampt_emcal.SetMarkerColor(4)\n",
    "h_eT_epos_emcal.SetMarkerStyle(8)\n",
    "h_eT_epos_emcal.SetMarkerSize(0.7)\n",
    "h_eT_epos_emcal.SetMarkerColor(3)\n",
    "h_eT_data_emcal.GetYaxis().SetRangeUser(0,600)\n",
    "h_eT_data_emcal.SetStats(0)\n",
    "h_eT_sim_emcal.SetStats(0)\n",
    "h_eT_epos_emcal.SetStats(0)\n",
    "h_eT_ampt_emcal.SetStats(0)\n",
    "h_eT_data_emcal.SetYTitle(\"EMCal Reco dE_{T}/d#eta [GeV]\")\n",
    "h_eT_data_emcal.SetXTitle(\"#eta\")\n",
    "h_eT_data_emcal.Draw()\n",
    "#h_eT_sim_emcal.Draw('same')\n",
    "#h_eT_epos_emcal.Draw('same')\n",
    "#h_eT_ampt_emcal.Draw('same')\n",
    "leg.Draw()\n",
    "canvas.Draw()\n",
    "canvas.SaveAs('/sphenix/u/egm2153/spring_2024/detdeta_plots/emcal_uncorrected_'+cent+'.png')"
   ]
  },
  {
   "cell_type": "code",
   "execution_count": 11,
   "id": "5485f756-a306-4447-9a2f-5f4833597c38",
   "metadata": {},
   "outputs": [
    {
     "name": "stderr",
     "output_type": "stream",
     "text": [
      "Warning in <TCanvas::Constructor>: Deleting canvas with same name: canvas\n",
      "Info in <TCanvas::Print>: png file /sphenix/u/egm2153/spring_2024/detdeta_plots/ihcal_uncorrected_0-5.png has been created\n"
     ]
    },
    {
     "data": {
      "image/png": "[encoded data removed]",
      "text/plain": [
       "<IPython.core.display.Image object>"
      ]
     },
     "metadata": {},
     "output_type": "display_data"
    }
   ],
   "source": [
    "canvas = TCanvas(\"canvas\",\"\",600,500)\n",
    "leg = ROOT.TLegend(.2,.62,.85,.8)\n",
    "leg.AddEntry(\"\",\"#it{#bf{sPHENIX}} Internal\",\"\")\n",
    "leg.AddEntry(\"\",\"#sqrt{s_{NN}} = 200 GeV Au+Au\",\"\")\n",
    "leg.AddEntry(\"\",f\"{cent}% cent.\",\"\")\n",
    "#leg.AddEntry(h_eT_data_ihcal,\"Data\",\"lep\")\n",
    "#leg.AddEntry(h_eT_sim_ihcal,\"Reweighted Hijing\",\"lep\")\n",
    "#leg.AddEntry(h_eT_epos_ihcal,\"Reweighted EPOS\",\"lep\")\n",
    "#leg.AddEntry(h_eT_ampt_ihcal,\"Reweighted AMPT\",\"lep\")\n",
    "leg.SetBorderSize(0)\n",
    "h_eT_data_ihcal.SetStats(0)\n",
    "h_eT_sim_ihcal.SetStats(0)\n",
    "h_eT_epos_ihcal.SetStats(0)\n",
    "h_eT_ampt_ihcal.SetStats(0)\n",
    "h_eT_data_ihcal.SetYTitle(\"IHCal Reco dE_{T}/d#eta [GeV]\")\n",
    "h_eT_data_ihcal.SetXTitle(\"#eta\")\n",
    "h_eT_data_ihcal.GetXaxis().SetRangeUser(-1.05,1.1)\n",
    "h_eT_sim_ihcal.GetXaxis().SetRangeUser(-1.05,1.1)\n",
    "h_eT_epos_ihcal.GetXaxis().SetRangeUser(-1.05,1.1)\n",
    "h_eT_ampt_ihcal.GetXaxis().SetRangeUser(-1.05,1.1)\n",
    "h_eT_data_ihcal.GetYaxis().SetRangeUser(0,80)\n",
    "h_eT_sim_ihcal.GetYaxis().SetRangeUser(0,80)\n",
    "h_eT_epos_ihcal.GetYaxis().SetRangeUser(0,80)\n",
    "h_eT_ampt_ihcal.GetYaxis().SetRangeUser(0,80)\n",
    "h_eT_data_ihcal.SetLineColor(1)\n",
    "h_eT_sim_ihcal.SetLineColor(2)\n",
    "h_eT_epos_ihcal.SetLineColor(3)\n",
    "h_eT_ampt_ihcal.SetLineColor(4)\n",
    "h_eT_data_ihcal.SetMarkerStyle(20)\n",
    "h_eT_sim_ihcal.SetMarkerStyle(8)\n",
    "h_eT_sim_ihcal.SetMarkerSize(0.7)\n",
    "h_eT_sim_ihcal.SetMarkerColor(2)\n",
    "h_eT_ampt_ihcal.SetMarkerStyle(8)\n",
    "h_eT_ampt_ihcal.SetMarkerSize(0.7)\n",
    "h_eT_ampt_ihcal.SetMarkerColor(4)\n",
    "h_eT_epos_ihcal.SetMarkerStyle(8)\n",
    "h_eT_epos_ihcal.SetMarkerSize(0.7)\n",
    "h_eT_epos_ihcal.SetMarkerColor(3)\n",
    "h_eT_data_ihcal.Draw()\n",
    "#h_eT_sim_ihcal.Draw('same')\n",
    "#h_eT_epos_ihcal.Draw('same')\n",
    "#h_eT_ampt_ihcal.Draw('same')\n",
    "leg.Draw()\n",
    "canvas.Draw()\n",
    "canvas.SaveAs('/sphenix/u/egm2153/spring_2024/detdeta_plots/ihcal_uncorrected_'+cent+'.png')"
   ]
  },
  {
   "cell_type": "code",
   "execution_count": 12,
   "id": "0e8d69e1-ad30-437b-9cc1-60de58bf4cfb",
   "metadata": {},
   "outputs": [
    {
     "name": "stderr",
     "output_type": "stream",
     "text": [
      "Warning in <TCanvas::Constructor>: Deleting canvas with same name: canvas\n",
      "Info in <TCanvas::Print>: png file /sphenix/u/egm2153/spring_2024/detdeta_plots/ohcal_uncorrected_0-5.png has been created\n"
     ]
    },
    {
     "data": {
      "image/png": "[encoded data removed]",
      "text/plain": [
       "<IPython.core.display.Image object>"
      ]
     },
     "metadata": {},
     "output_type": "display_data"
    }
   ],
   "source": [
    "canvas = TCanvas(\"canvas\",\"\",600,500)\n",
    "leg = ROOT.TLegend(.2,.62,.85,.8)\n",
    "leg.AddEntry(\"\",\"#it{#bf{sPHENIX}} Internal\",\"\")\n",
    "leg.AddEntry(\"\",\"#sqrt{s_{NN}} = 200 GeV Au+Au\",\"\")\n",
    "leg.AddEntry(\"\",f\"{cent}% cent.\",\"\")\n",
    "#leg.AddEntry(h_eT_data_ohcal,\"Data\",\"lep\")\n",
    "#leg.AddEntry(h_eT_sim_ohcal,\"Reweighted Hijing\",\"lep\")\n",
    "#leg.AddEntry(h_eT_epos_ohcal,\"Reweighted EPOS\",\"lep\")\n",
    "#leg.AddEntry(h_eT_ampt_ohcal,\"Reweighted AMPT\",\"lep\")\n",
    "leg.SetBorderSize(0)\n",
    "h_eT_data_ohcal.SetStats(0)\n",
    "h_eT_sim_ohcal.SetStats(0)\n",
    "h_eT_epos_ohcal.SetStats(0)\n",
    "h_eT_ampt_ohcal.SetStats(0)\n",
    "h_eT_data_ohcal.SetYTitle(\"OHCal Reco dE_{T}/d#eta [GeV]\")\n",
    "h_eT_data_ohcal.SetXTitle(\"#eta\")\n",
    "h_eT_data_ohcal.GetYaxis().SetRangeUser(0,270)\n",
    "h_eT_sim_ohcal.GetYaxis().SetRangeUser(0,270)\n",
    "h_eT_epos_ohcal.GetXaxis().SetRangeUser(-1.05,1.1)\n",
    "h_eT_epos_ohcal.GetYaxis().SetRangeUser(0,270)\n",
    "h_eT_ampt_ohcal.GetYaxis().SetRangeUser(0,270)\n",
    "h_eT_data_ohcal.GetXaxis().SetRangeUser(-1.05,1.1)\n",
    "h_eT_sim_ohcal.GetXaxis().SetRangeUser(-1.05,1.1)\n",
    "h_eT_ampt_ohcal.GetXaxis().SetRangeUser(-1.05,1.1)\n",
    "h_eT_data_ohcal.SetLineColor(1)\n",
    "h_eT_sim_ohcal.SetLineColor(2)\n",
    "h_eT_epos_ohcal.SetLineColor(3)\n",
    "h_eT_ampt_ohcal.SetLineColor(4)\n",
    "h_eT_data_ohcal.SetMarkerStyle(20)\n",
    "h_eT_sim_ohcal.SetMarkerStyle(8)\n",
    "h_eT_sim_ohcal.SetMarkerSize(0.7)\n",
    "h_eT_sim_ohcal.SetMarkerColor(2)\n",
    "h_eT_ampt_ohcal.SetMarkerStyle(8)\n",
    "h_eT_ampt_ohcal.SetMarkerSize(0.7)\n",
    "h_eT_ampt_ohcal.SetMarkerColor(4)\n",
    "h_eT_epos_ohcal.SetMarkerStyle(8)\n",
    "h_eT_epos_ohcal.SetMarkerSize(0.7)\n",
    "h_eT_epos_ohcal.SetMarkerColor(3)\n",
    "h_eT_data_ohcal.Draw()\n",
    "#h_eT_sim_ohcal.Draw('same')\n",
    "#h_eT_epos_ohcal.Draw('same')\n",
    "#h_eT_ampt_ohcal.Draw('same')\n",
    "leg.Draw()\n",
    "canvas.Draw()\n",
    "canvas.SaveAs('/sphenix/u/egm2153/spring_2024/detdeta_plots/ohcal_uncorrected_'+cent+'.png')"
   ]
  },
  {
   "cell_type": "code",
   "execution_count": 5,
   "id": "7156e372-1ae6-46ea-974e-ec0f32f0dd11",
   "metadata": {},
   "outputs": [
    {
     "name": "stderr",
     "output_type": "stream",
     "text": [
      "Info in <TCanvas::Print>: png file /sphenix/u/egm2153/spring_2024/detdeta_plots/calo_uncorrected_0-5.png has been created\n"
     ]
    },
    {
     "data": {
      "image/png": "[encoded data removed]",
      "text/plain": [
       "<IPython.core.display.Image object>"
      ]
     },
     "metadata": {},
     "output_type": "display_data"
    }
   ],
   "source": [
    "canvas = TCanvas(\"canvas\",\"\",600,500)\n",
    "leg = ROOT.TLegend(.3,.6,.7,.89)\n",
    "if cent == '0-5' or cent == '5-10':\n",
    "    leg = ROOT.TLegend(.3,.2,.7,.4)\n",
    "leg.AddEntry(\"\",\"#it{#bf{sPHENIX}} Internal\",\"\")\n",
    "leg.AddEntry(\"\",\"#sqrt{s_{NN}} = 200 GeV Au+Au\",\"\")\n",
    "leg.AddEntry(\"\",f\"{cent}% cent.\",\"\")\n",
    "#leg.AddEntry(h_eT_data_emcal,\"Data\",\"lep\")\n",
    "#leg.AddEntry(h_eT_sim_emcal,\"Reweighted Hijing\",\"lep\")\n",
    "#leg.AddEntry(h_eT_epos_emcal,\"Reweighted EPOS\",\"lep\")\n",
    "#leg.AddEntry(h_eT_ampt_emcal,\"Reweighted AMPT\",\"lep\")\n",
    "leg.SetBorderSize(0)\n",
    "h_eT_data_calo.SetLineColor(1)\n",
    "h_eT_sim_emcal.SetLineColor(2)\n",
    "h_eT_ampt_emcal.SetLineColor(4)\n",
    "h_eT_epos_emcal.SetLineColor(3)\n",
    "h_eT_data_calo.SetMarkerStyle(20)\n",
    "h_eT_sim_emcal.SetMarkerStyle(8)\n",
    "h_eT_sim_emcal.SetMarkerSize(0.7)\n",
    "h_eT_sim_emcal.SetMarkerColor(2)\n",
    "h_eT_ampt_emcal.SetMarkerStyle(8)\n",
    "h_eT_ampt_emcal.SetMarkerSize(0.7)\n",
    "h_eT_ampt_emcal.SetMarkerColor(4)\n",
    "h_eT_epos_emcal.SetMarkerStyle(8)\n",
    "h_eT_epos_emcal.SetMarkerSize(0.7)\n",
    "h_eT_epos_emcal.SetMarkerColor(3)\n",
    "h_eT_data_calo.GetYaxis().SetRangeUser(0,700)\n",
    "h_eT_data_emcal.SetStats(0)\n",
    "h_eT_sim_emcal.SetStats(0)\n",
    "h_eT_epos_emcal.SetStats(0)\n",
    "h_eT_ampt_emcal.SetStats(0)\n",
    "h_eT_data_calo.SetYTitle(\"Full Calo Reco dE_{T}/d#eta [GeV]\")\n",
    "h_eT_data_emcal.SetXTitle(\"#eta\")\n",
    "h_eT_data_calo.Draw()\n",
    "#h_eT_sim_emcal.Draw('same')\n",
    "#h_eT_epos_emcal.Draw('same')\n",
    "#h_eT_ampt_emcal.Draw('same')\n",
    "leg.Draw()\n",
    "canvas.Draw()\n",
    "canvas.SaveAs('/sphenix/u/egm2153/spring_2024/detdeta_plots/calo_uncorrected_'+cent+'.png')"
   ]
  },
  {
   "cell_type": "code",
   "execution_count": 15,
   "id": "99f9e3d9-9dce-4a6e-8484-d925a10ead74",
   "metadata": {},
   "outputs": [],
   "source": [
    "cents = ['0-5','5-10','10-20','20-30','30-40','40-50','50-60']\n",
    "emcal_corr = []\n",
    "ihcal_corr = []\n",
    "ohcal_corr = []\n",
    "\n",
    "for i, cent in enumerate(cents):\n",
    "    infile = \"MC/dETdeta_analysis_allruns_hijing_run14_nozs_mc_reweight_\"+cent+\"_reweight_hijing.root\"\n",
    "    f1 = ROOT.TFile.Open(infile)\n",
    "    emcal_corr.append(TH1F(f1.Get(\"h_emcal_correction\")))\n",
    "    ihcal_corr.append(TH1F(f1.Get(\"h_ihcal_correction\")))\n",
    "    ohcal_corr.append(TH1F(f1.Get(\"h_ohcal_correction\")))\n",
    "    emcal_corr[i].SetDirectory(0)\n",
    "    ihcal_corr[i].SetDirectory(0)\n",
    "    ohcal_corr[i].SetDirectory(0)\n",
    "    f1.Close()"
   ]
  },
  {
   "cell_type": "code",
   "execution_count": 14,
   "id": "dc9300d6-1b01-48d5-bb2b-c58e8b510cae",
   "metadata": {},
   "outputs": [],
   "source": []
  },
  {
   "cell_type": "code",
   "execution_count": 16,
   "id": "e4d68f30-fb92-4aec-a35e-de8853d3ba79",
   "metadata": {},
   "outputs": [
    {
     "name": "stdout",
     "output_type": "stream",
     "text": [
      "[0.6662336389223733, 0.658951312303543, 0.6489203323920568, 0.659195656577746, 0.672993540763855, 0.6804526895284653, 0.6880904883146286]\n",
      "[0.0018013759515985552, 0.0012534294996990034, 0.0010480586907360282, 0.0013106127470593378, 0.0016397944228098192, 0.002052393579504511, 0.00265559737789093]\n",
      "[0.0454057917619745, 0.0452950190131863, 0.04514941324790319, 0.044916355051100254, 0.044692439337571464, 0.044222491793334484, 0.04381570313125848]\n",
      "[0.13877103477716446, 0.1391879357397556, 0.14006401101748148, 0.1403493583202362, 0.13994664326310158, 0.13888102769851685, 0.13785838335752484]\n"
     ]
    }
   ],
   "source": [
    "emcal_mean = []\n",
    "ihcal_mean = []\n",
    "ohcal_mean = []\n",
    "emcal_stat = []\n",
    "ihcal_stat = []\n",
    "ohcal_stat = []\n",
    "\n",
    "for i in range(len(cents)):\n",
    "    emcal_mean.append(0)\n",
    "    ihcal_mean.append(0)\n",
    "    ohcal_mean.append(0)\n",
    "    emcal_stat.append(0)\n",
    "    ihcal_stat.append(0)\n",
    "    ohcal_stat.append(0)\n",
    "    for j in range(7, 19):\n",
    "        emcal_mean[i] += emcal_corr[i].GetBinContent(j)/12.0\n",
    "        ihcal_mean[i] += ihcal_corr[i].GetBinContent(j)/12.0\n",
    "        ohcal_mean[i] += ohcal_corr[i].GetBinContent(j)/12.0\n",
    "        emcal_stat[i] += (emcal_corr[i].GetBinError(j)**2)/12.0\n",
    "        ihcal_stat[i] += (ihcal_corr[i].GetBinError(j)**2)/12.0\n",
    "        ohcal_stat[i] += (ohcal_corr[i].GetBinError(j)**2)/12.0\n",
    "    emcal_stat[i] = np.sqrt(emcal_stat[i])\n",
    "    ihcal_stat[i] = np.sqrt(ihcal_stat[i])\n",
    "    ohcal_stat[i] = np.sqrt(ohcal_stat[i])\n",
    "emm = array('f',emcal_mean)\n",
    "ihm = array('f',ihcal_mean)\n",
    "ohm = array('f',ohcal_mean)\n",
    "eme = array('f',emcal_stat)\n",
    "ihe = array('f',ihcal_stat)\n",
    "ohe = array('f',ohcal_stat)\n",
    "arrays = [emm, ohm, ihm]\n",
    "errorarray = [eme, ohe, ihe]\n",
    "\n",
    "Npart = [352,299,234,166,115,76,47]\n",
    "half_npart = [176.0,149.5,117.0,83.0,57.5,38.0,23.5]\n",
    "Npartarray = array('f', Npart)\n",
    "Npart_error = [3,7,8,9,9,8,8]\n",
    "Npart_error_array = array('f', Npart_error)\n",
    "\n",
    "cent_mean = [2.5,7.5,15,25,35,45,55]\n",
    "cent_error = [2.5,2.5,5,5,5,5,5]\n",
    "centarray = array('f',cent_mean)\n",
    "centerrorarray = array('f',cent_error)\n",
    "print(emcal_mean)\n",
    "print(emcal_stat)\n",
    "print(ihcal_mean)\n",
    "print(ohcal_mean)"
   ]
  },
  {
   "cell_type": "code",
   "execution_count": 18,
   "id": "416024ac-1472-4170-b441-30565d8d1dbb",
   "metadata": {},
   "outputs": [
    {
     "name": "stderr",
     "output_type": "stream",
     "text": [
      "Warning in <TCanvas::Constructor>: Deleting canvas with same name: canvas\n",
      "Info in <TCanvas::Print>: png file /sphenix/u/egm2153/spring_2024/detdeta_plots/calo_subsystem_reco_truth_centbins.png has been created\n",
      "Info in <TCanvas::Print>: pdf file /sphenix/u/egm2153/spring_2024/detdeta_plots/calo_subsystem_reco_truth_centbins.pdf has been created\n"
     ]
    },
    {
     "data": {
      "image/png": "[encoded data removed]",
      "text/plain": [
       "<IPython.core.display.Image object>"
      ]
     },
     "metadata": {},
     "output_type": "display_data"
    }
   ],
   "source": [
    "# Create a canvas\n",
    "canvas = ROOT.TCanvas(\"canvas\", \"Graphs\", 800, 600)\n",
    "leg_tags = ['EMCal','OHCal','IHCal']\n",
    "\n",
    "# Create and plot TGraphs for each array\n",
    "graphs = []\n",
    "colors = [ROOT.kAzure+7, ROOT.kBlue-3, ROOT.kPink-6] #, ROOT.kCyan, ROOT.kMagenta, ROOT.kYellow, ROOT.kBlack, ROOT.kGray]\n",
    "error_colors = [ROOT.kCyan-10, ROOT.kBlue-10, ROOT.kRed-10]\n",
    "shapes = [ROOT.kFullSquare, ROOT.kFullCircle, 22]\n",
    "for i, arr in enumerate(arrays):\n",
    "    #graphs.append(ROOT.TGraphErrors(7, Npartarray, arr, Npart_error_array, errorarray[i]))\n",
    "    graphs.append(ROOT.TGraphErrors(7, centarray, arr, 0, errorarray[i]))\n",
    "    \n",
    "    graphs[i].SetMarkerStyle(shapes[i])\n",
    "    graphs[i].SetLineColor(colors[i])\n",
    "    graphs[i].SetMarkerColor(colors[i])\n",
    "    graphs[i].GetYaxis().SetRangeUser(0,1)\n",
    "    graphs[i].SetMarkerSize(1.5)\n",
    "    if i == 0:\n",
    "        graphs[i].GetYaxis().SetTitle(\"(dE_{T}/d#eta)_{reco}/(dE_{T}/d#eta)_{truth}\")\n",
    "        #graphs[i].GetXaxis().SetTitle(\"<N_{part}>\")\n",
    "        graphs[i].GetXaxis().SetTitle(\"Centrality (%)\")\n",
    "        graphs[i].Draw(\"AP\")\n",
    "    else:\n",
    "        graphs[i].Draw(\"P,same\")\n",
    "\n",
    "# Set the legend\n",
    "legend = ROOT.TLegend(0.7, 0.4, 0.89, 0.6)\n",
    "legend.SetBorderSize(0)\n",
    "legend.SetTextSize(0.05)\n",
    "for i, graph in enumerate(graphs):\n",
    "    legend.AddEntry(graph,leg_tags[i], \"p\")\n",
    "legend.Draw()\n",
    "\n",
    "text = ROOT.TLatex()\n",
    "text.SetTextSize(0.05)\n",
    "text.SetTextAlign(12)  # Center alignment\n",
    "text.SetTextColor(ROOT.kBlack)\n",
    "text.DrawLatexNDC(0.22, 0.85, \"#it{#bf{sPHENIX}} Simulation Preliminary\")\n",
    "\n",
    "text2 = ROOT.TLatex()\n",
    "text2.SetTextSize(0.05)\n",
    "text2.SetTextAlign(12)  # Center alignment\n",
    "text2.SetTextColor(ROOT.kBlack)\n",
    "text2.DrawLatexNDC(0.22, 0.8, \"HIJING Au+Au 200 GeV\")\n",
    "\n",
    "# Draw the canvas\n",
    "canvas.Draw()\n",
    "canvas.SaveAs(\"/sphenix/u/egm2153/spring_2024/detdeta_plots/calo_subsystem_reco_truth_centbins.png\")\n",
    "canvas.SaveAs(\"/sphenix/u/egm2153/spring_2024/detdeta_plots/calo_subsystem_reco_truth_centbins.pdf\")"
   ]
  },
  {
   "cell_type": "code",
   "execution_count": null,
   "id": "863eec6d-911b-449b-96ca-323d9fa0574f",
   "metadata": {},
   "outputs": [],
   "source": []
  },
  {
   "cell_type": "code",
   "execution_count": null,
   "id": "f3761357-49c5-46e0-a2c7-82f24712c557",
   "metadata": {},
   "outputs": [],
   "source": []
  },
  {
   "cell_type": "code",
   "execution_count": null,
   "id": "7810e03f-dc70-457d-b378-39034dd3824f",
   "metadata": {},
   "outputs": [],
   "source": []
  },
  {
   "cell_type": "code",
   "execution_count": null,
   "id": "d600500a-2a70-4921-8f47-a0b7dee2d8ac",
   "metadata": {},
   "outputs": [],
   "source": []
  },
  {
   "cell_type": "code",
   "execution_count": null,
   "id": "455ea3d5-0b53-4e34-9691-c96c176ab3af",
   "metadata": {},
   "outputs": [],
   "source": []
  },
  {
   "cell_type": "code",
   "execution_count": null,
   "id": "c8dc0d54-78e2-42c8-aa2d-885ce3bcab25",
   "metadata": {},
   "outputs": [],
   "source": []
  },
  {
   "cell_type": "code",
   "execution_count": null,
   "id": "97d38fee-64fa-4c55-b1ee-9f6d4afc11d7",
   "metadata": {},
   "outputs": [],
   "source": []
  },
  {
   "cell_type": "code",
   "execution_count": null,
   "id": "245d2dbb-ba4d-441f-b25d-6160322ad6c2",
   "metadata": {},
   "outputs": [],
   "source": []
  },
  {
   "cell_type": "code",
   "execution_count": null,
   "id": "a753238a-2d6f-46d0-b6c8-bdefbc2f6427",
   "metadata": {},
   "outputs": [],
   "source": []
  },
  {
   "cell_type": "code",
   "execution_count": null,
   "id": "4d577d32-93b4-4f1d-be97-9b38820d8123",
   "metadata": {},
   "outputs": [],
   "source": []
  },
  {
   "cell_type": "code",
   "execution_count": null,
   "id": "b7290e5c-e7f0-40a7-9352-ccc578d737a4",
   "metadata": {},
   "outputs": [],
   "source": []
  },
  {
   "cell_type": "code",
   "execution_count": null,
   "id": "85254874-1064-4917-aeb3-5a7e63519035",
   "metadata": {},
   "outputs": [],
   "source": []
  },
  {
   "cell_type": "code",
   "execution_count": null,
   "id": "39bbc120-46e3-4843-8f14-6b00e95e9347",
   "metadata": {},
   "outputs": [],
   "source": []
  },
  {
   "cell_type": "code",
   "execution_count": null,
   "id": "18cc99d4-d757-4179-b890-71d8d793e4e3",
   "metadata": {},
   "outputs": [],
   "source": []
  },
  {
   "cell_type": "code",
   "execution_count": null,
   "id": "48f887ce-e961-4199-a0e6-063a50f260d8",
   "metadata": {},
   "outputs": [],
   "source": []
  },
  {
   "cell_type": "code",
   "execution_count": null,
   "id": "30bc269a-f850-4f76-9f18-c5c473622bfe",
   "metadata": {},
   "outputs": [],
   "source": []
  },
  {
   "cell_type": "code",
   "execution_count": null,
   "id": "797153d2-a73a-424e-b9c4-e6249d0317ce",
   "metadata": {},
   "outputs": [],
   "source": []
  },
  {
   "cell_type": "code",
   "execution_count": null,
   "id": "f2a92959-84c2-4b72-b252-8d7e5f68f504",
   "metadata": {},
   "outputs": [],
   "source": []
  },
  {
   "cell_type": "code",
   "execution_count": null,
   "id": "467e3571-62f7-40b7-af5b-e93641329fcd",
   "metadata": {},
   "outputs": [],
   "source": []
  },
  {
   "cell_type": "code",
   "execution_count": null,
   "id": "72edc58e-8f41-4776-88a3-186779f5f76f",
   "metadata": {},
   "outputs": [],
   "source": []
  },
  {
   "cell_type": "code",
   "execution_count": null,
   "id": "21a05a03-4223-4be7-81d2-1f6f440c6cf8",
   "metadata": {},
   "outputs": [],
   "source": []
  },
  {
   "cell_type": "code",
   "execution_count": null,
   "id": "2aeda74d-709e-43c0-a23c-927b02f7ae55",
   "metadata": {},
   "outputs": [],
   "source": []
  },
  {
   "cell_type": "code",
   "execution_count": null,
   "id": "7bed9cb0-c9fe-4aa3-89f2-50dcb8748929",
   "metadata": {},
   "outputs": [],
   "source": []
  }
 ],
 "metadata": {
  "kernelspec": {
   "display_name": "Python (sPHENIX)",
   "language": "python",
   "name": "sphenix-env"
  },
  "language_info": {
   "codemirror_mode": {
    "name": "ipython",
    "version": 3
   },
   "file_extension": ".py",
   "mimetype": "text/x-python",
   "name": "python",
   "nbconvert_exporter": "python",
   "pygments_lexer": "ipython3",
   "version": "3.10.8"
  }
 },
 "nbformat": 4,
 "nbformat_minor": 5
}
