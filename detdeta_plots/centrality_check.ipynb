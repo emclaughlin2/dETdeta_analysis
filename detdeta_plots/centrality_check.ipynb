{
 "cells": [
  {
   "cell_type": "code",
   "execution_count": 1,
   "id": "06759fa4-cd45-497e-a22f-528ac83e089c",
   "metadata": {},
   "outputs": [
    {
     "name": "stdout",
     "output_type": "stream",
     "text": [
      "Welcome to JupyROOT 6.26/06\n"
     ]
    }
   ],
   "source": [
    "import ROOT\n",
    "from ROOT import TCanvas, TFile, TProfile, TNtuple, TH1I, TH1F, TH2F, TH3F, TColor, TEfficiency\n",
    "from ROOT import gROOT, gBenchmark, gRandom, gSystem\n",
    "import numpy as np\n",
    "import pdb\n",
    "from array import array"
   ]
  },
  {
   "cell_type": "code",
   "execution_count": 2,
   "id": "74e1b12c-2733-49b3-b5cd-73617d37b7bb",
   "metadata": {},
   "outputs": [
    {
     "name": "stdout",
     "output_type": "stream",
     "text": [
      "/direct/sphenix+u/egm2153/spring_2023\n"
     ]
    },
    {
     "data": {
      "text/plain": [
       "0"
      ]
     },
     "execution_count": 2,
     "metadata": {},
     "output_type": "execute_result"
    },
    {
     "name": "stdout",
     "output_type": "stream",
     "text": [
      "sPhenixStyle: Applying nominal settings.\n",
      "sPhenixStyle: ROOT6 mode\n"
     ]
    }
   ],
   "source": [
    "%cd /sphenix/u/egm2153/spring_2023\n",
    "gROOT.LoadMacro(\"sPhenixStyle.C\");\n",
    "gROOT.ProcessLine(\"SetsPhenixStyle()\")"
   ]
  },
  {
   "cell_type": "code",
   "execution_count": 3,
   "id": "0cadf0fc-e613-4377-a5a3-131a6d0cba10",
   "metadata": {},
   "outputs": [
    {
     "name": "stdout",
     "output_type": "stream",
     "text": [
      "/gpfs/mnt/gpfs02/sphenix/user/egm2153/calib_study/detdeta/analysis/runs23727_23746\n"
     ]
    }
   ],
   "source": [
    "%cd /sphenix/user/egm2153/calib_study/detdeta/analysis/runs23727_23746"
   ]
  },
  {
   "cell_type": "code",
   "execution_count": 4,
   "id": "e6417acd-3c0f-4f6a-98aa-92ccb18d8489",
   "metadata": {},
   "outputs": [],
   "source": [
    "cents = ['0-5', '5-10', '10-20', '20-30', '30-40', '40-50', '50-60']\n",
    "cent_size = [5,5,10,10,10,10,10]\n",
    "h_vz = []\n",
    "for i, cent in enumerate(cents):\n",
    "    f = ROOT.TFile.Open(\"new_cent_bins/dETdeta_analysis_allruns_HCal_zs_30ADC_EMCal_zs_40ADC_data_noweight_\"+cent+\".root\")\n",
    "    h_vz.append(TH1F(f.Get(\"h_vz_reweight\")))\n",
    "    h_vz[i].SetDirectory(0)\n",
    "    f.Close()"
   ]
  },
  {
   "cell_type": "code",
   "execution_count": 8,
   "id": "eb37150e-bf21-4198-89ac-12a91edfa0de",
   "metadata": {},
   "outputs": [
    {
     "name": "stdout",
     "output_type": "stream",
     "text": [
      "0-5 0.00947771239369356\n",
      "5-10 0.010936218714059526\n",
      "10-20 0.010998365111373564\n",
      "20-30 0.011041429212416902\n",
      "30-40 0.010860405266713771\n",
      "40-50 0.010612851152931712\n",
      "50-60 0.010547352460326875\n"
     ]
    }
   ],
   "source": [
    "for i in range(len(h_vz)):\n",
    "    print(cents[i], h_vz[i].GetEntries()/(387794*cent_size[i]))"
   ]
  },
  {
   "cell_type": "code",
   "execution_count": 13,
   "id": "d1adcd06-640b-4895-ad5c-1691228a78b7",
   "metadata": {},
   "outputs": [
    {
     "name": "stdout",
     "output_type": "stream",
     "text": [
      "249225.0\n"
     ]
    }
   ],
   "source": [
    "total = 0\n",
    "for i in range(len(h_vz)):\n",
    "    total += h_vz[i].GetEntries()\n",
    "print(total)"
   ]
  },
  {
   "cell_type": "code",
   "execution_count": null,
   "id": "30b5eaaa-de1a-412c-8adb-bd3d539f4a0a",
   "metadata": {},
   "outputs": [],
   "source": []
  }
 ],
 "metadata": {
  "kernelspec": {
   "display_name": "Python (sPHENIX)",
   "language": "python",
   "name": "sphenix-env"
  },
  "language_info": {
   "codemirror_mode": {
    "name": "ipython",
    "version": 3
   },
   "file_extension": ".py",
   "mimetype": "text/x-python",
   "name": "python",
   "nbconvert_exporter": "python",
   "pygments_lexer": "ipython3",
   "version": "3.10.8"
  }
 },
 "nbformat": 4,
 "nbformat_minor": 5
}
