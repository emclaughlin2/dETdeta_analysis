{
 "cells": [
  {
   "cell_type": "code",
   "execution_count": 1,
   "id": "bdbcc123-124e-43b6-82b1-15785a35337d",
   "metadata": {},
   "outputs": [
    {
     "name": "stdout",
     "output_type": "stream",
     "text": [
      "Welcome to JupyROOT 6.26/06\n"
     ]
    }
   ],
   "source": [
    "import ROOT\n",
    "from ROOT import TCanvas, TFile, TProfile, TNtuple, TH1I, TH1F, TH2F, TH3F, TColor, TEfficiency\n",
    "from ROOT import gROOT, gBenchmark, gRandom, gSystem\n",
    "import numpy as np\n",
    "import pdb\n",
    "from array import array"
   ]
  },
  {
   "cell_type": "code",
   "execution_count": 2,
   "id": "d879c275-49e7-4f7e-946d-fac71a4b5bdd",
   "metadata": {},
   "outputs": [
    {
     "name": "stdout",
     "output_type": "stream",
     "text": [
      "/direct/sphenix+u/egm2153/spring_2023\n"
     ]
    },
    {
     "data": {
      "text/plain": [
       "0"
      ]
     },
     "execution_count": 2,
     "metadata": {},
     "output_type": "execute_result"
    },
    {
     "name": "stdout",
     "output_type": "stream",
     "text": [
      "sPhenixStyle: Applying nominal settings.\n",
      "sPhenixStyle: ROOT6 mode\n"
     ]
    }
   ],
   "source": [
    "%cd /sphenix/u/egm2153/spring_2023\n",
    "gROOT.LoadMacro(\"sPhenixStyle.C\");\n",
    "gROOT.ProcessLine(\"SetsPhenixStyle()\")"
   ]
  },
  {
   "cell_type": "code",
   "execution_count": 3,
   "id": "6013ac05-6c4b-49c1-8e7c-d5e37194ec4a",
   "metadata": {},
   "outputs": [
    {
     "name": "stdout",
     "output_type": "stream",
     "text": [
      "/gpfs/mnt/gpfs02/sphenix/user/egm2153/calib_study/detdeta/analysis/runs23727_23746/MC\n"
     ]
    }
   ],
   "source": [
    "%cd /sphenix/user/egm2153/calib_study/detdeta/analysis/runs23727_23746/MC"
   ]
  },
  {
   "cell_type": "code",
   "execution_count": 22,
   "id": "228660ef-bdb7-46fb-a83f-c309820b7891",
   "metadata": {},
   "outputs": [],
   "source": [
    "f5 = ROOT.TFile.Open(\"dETdeta_variation_MC_50-60.root\")\n",
    "emcal_unc = TH1F(f5.Get(\"emcal_detdeta_dev\"))\n",
    "ihcal_unc = TH1F(f5.Get(\"ihcal_detdeta_dev\"))\n",
    "ohcal_unc = TH1F(f5.Get(\"ohcal_detdeta_dev\"))\n",
    "calo_unc = TH1F(f5.Get(\"calo_detdeta_dev\"))\n",
    "emcal_unc.SetDirectory(0)\n",
    "ihcal_unc.SetDirectory(0)\n",
    "ohcal_unc.SetDirectory(0)\n",
    "calo_unc.SetDirectory(0)\n",
    "f5.Close()"
   ]
  },
  {
   "cell_type": "code",
   "execution_count": 23,
   "id": "4490b3ab-7722-4de3-84a2-f4d6ff53a0e5",
   "metadata": {},
   "outputs": [
    {
     "name": "stderr",
     "output_type": "stream",
     "text": [
      "Warning in <TCanvas::Constructor>: Deleting canvas with same name: canvas\n"
     ]
    },
    {
     "data": {
      "image/png": "[encoded data removed]",
      "text/plain": [
       "<IPython.core.display.Image object>"
      ]
     },
     "metadata": {},
     "output_type": "display_data"
    }
   ],
   "source": [
    "canvas = TCanvas(\"canvas\",\"\",600,500)\n",
    "calo_unc.SetLineColor(1)\n",
    "emcal_unc.SetLineColor(2)\n",
    "ohcal_unc.SetLineColor(4)\n",
    "calo_unc.GetYaxis().SetRangeUser(0,20)\n",
    "calo_unc.Draw()\n",
    "emcal_unc.Draw(\"same\")\n",
    "ohcal_unc.Draw(\"same\")\n",
    "canvas.Draw()"
   ]
  },
  {
   "cell_type": "code",
   "execution_count": null,
   "id": "14ad6aa9-76b4-45f8-8e7d-98bd567c3516",
   "metadata": {},
   "outputs": [],
   "source": []
  }
 ],
 "metadata": {
  "kernelspec": {
   "display_name": "Python (sPHENIX)",
   "language": "python",
   "name": "sphenix-env"
  },
  "language_info": {
   "codemirror_mode": {
    "name": "ipython",
    "version": 3
   },
   "file_extension": ".py",
   "mimetype": "text/x-python",
   "name": "python",
   "nbconvert_exporter": "python",
   "pygments_lexer": "ipython3",
   "version": "3.10.8"
  }
 },
 "nbformat": 4,
 "nbformat_minor": 5
}
