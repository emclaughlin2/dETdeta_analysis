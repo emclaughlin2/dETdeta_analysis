{
 "cells": [
  {
   "cell_type": "code",
   "execution_count": 64,
   "id": "a9e4d7b6-2fd9-4e45-bed8-07244a4b56ad",
   "metadata": {},
   "outputs": [],
   "source": [
    "import ROOT\n",
    "import numpy as np\n",
    "from array import array\n",
    "from ROOT import TCanvas, TFile, TProfile, TNtuple, TH1I, TH1F, TH2F, TH3F, TColor, TEfficiency"
   ]
  },
  {
   "cell_type": "code",
   "execution_count": 2,
   "id": "b2cd2bef-1dd2-448a-bbaf-656530e3a87a",
   "metadata": {},
   "outputs": [
    {
     "name": "stdout",
     "output_type": "stream",
     "text": [
      "/gpfs/mnt/gpfs02/sphenix/user/egm2153/calib_study/detdeta/analysis/runs23727_23746\n"
     ]
    }
   ],
   "source": [
    "%cd /sphenix/user/egm2153/calib_study/detdeta/analysis/runs23727_23746"
   ]
  },
  {
   "cell_type": "code",
   "execution_count": 49,
   "id": "26e596d8-c281-41fa-8666-2c4bb81d103f",
   "metadata": {},
   "outputs": [
    {
     "name": "stdout",
     "output_type": "stream",
     "text": [
      "694.3663635253905 725.2962472098213 671.6690412248884 780.6067286900111 759.7534005301338 751.0599234444753 669.9375348772322 634.0171334402901 639.5475769042969\n",
      "554.8315560477122 563.7705034528459 521.428706577846 609.323756626674 594.0328935895647 587.5384608677456 520.3471330915179 493.9298291887556 498.57932172502785\n",
      "362.0071672712053 378.09022303989957 348.9218553815569 408.86987958635603 400.55970982142856 397.09070478166853 346.37792968750006 331.28214372907365 333.95332990373885\n"
     ]
    }
   ],
   "source": []
  },
  {
   "cell_type": "code",
   "execution_count": 63,
   "id": "6b7f0bc5-5f85-4a0f-ba73-9dae6dfc30d8",
   "metadata": {},
   "outputs": [
    {
     "name": "stdout",
     "output_type": "stream",
     "text": [
      "694.3663635253905 725.2962472098213 671.6690412248884 780.6067286900111 759.7534005301338 751.0599234444753 669.9375348772322 634.0171334402901 639.5475769042969\n",
      "554.8315560477122 563.7705034528459 521.428706577846 609.323756626674 594.0328935895647 587.5384608677456 520.3471330915179 493.9298291887556 498.57932172502785\n",
      "362.0071672712053 378.09022303989957 348.9218553815569 408.86987958635603 400.55970982142856 397.09070478166853 346.37792968750006 331.28214372907365 333.95332990373885\n",
      "[694.3663635253905, 554.8315560477122, 362.0071672712053]\n",
      "array('f', [694.3663330078125, 554.83154296875, 362.0071716308594])\n"
     ]
    },
    {
     "name": "stderr",
     "output_type": "stream",
     "text": [
      "Warning in <TCanvas::Constructor>: Deleting canvas with same name: canvas\n"
     ]
    },
    {
     "data": {
      "image/png": "[encoded data removed]",
      "text/plain": [
       "<IPython.core.display.Image object>"
      ]
     },
     "metadata": {},
     "output_type": "display_data"
    }
   ],
   "source": [
    "tag = 'p011'\n",
    "cents = ['0-5','5-15','15-25']\n",
    "leg_tags = ['emcal hijing','ihcal hijing','ohcal hijing','emcal epos','ihcal epos','ohcal epos','emcal ampt','ihcal ampt','ohcal ampt']\n",
    "emcal_detdeta_hijing = []\n",
    "emcal_detdeta_epos = []\n",
    "emcal_detdeta_ampt = []\n",
    "ihcal_detdeta_hijing = []\n",
    "ihcal_detdeta_epos = []\n",
    "ihcal_detdeta_ampt = []\n",
    "ohcal_detdeta_hijing = []\n",
    "ohcal_detdeta_epos = []\n",
    "ohcal_detdeta_ampt = []\n",
    "for i, cent in enumerate(cents):\n",
    "\tinfile = 'dETdeta_plots_w_hijing_reweight_p011_new_'+cent+'.root'\n",
    "\tf1 = ROOT.TFile.Open(infile)\n",
    "\temcal_detdeta_hijing.append(TH1F(f1.Get(\"emcal_detdeta_hijing\")))\n",
    "\temcal_detdeta_epos.append(TH1F(f1.Get(\"emcal_detdeta_epos\")))\n",
    "\temcal_detdeta_ampt.append(TH1F(f1.Get(\"emcal_detdeta_ampt\")))\n",
    "\tihcal_detdeta_hijing.append(TH1F(f1.Get(\"ihcal_detdeta_hijing\")))\n",
    "\tihcal_detdeta_epos.append(TH1F(f1.Get(\"ihcal_detdeta_epos\")))\n",
    "\tihcal_detdeta_ampt.append(TH1F(f1.Get(\"ihcal_detdeta_ampt\")))\n",
    "\tohcal_detdeta_hijing.append(TH1F(f1.Get(\"ohcal_detdeta_hijing\")))\n",
    "\tohcal_detdeta_epos.append(TH1F(f1.Get(\"ohcal_detdeta_epos\")))\n",
    "\tohcal_detdeta_ampt.append(TH1F(f1.Get(\"ohcal_detdeta_ampt\")))\n",
    "\temcal_detdeta_hijing[i].SetDirectory(0)\n",
    "\temcal_detdeta_epos[i].SetDirectory(0)\n",
    "\temcal_detdeta_ampt[i].SetDirectory(0)\n",
    "\tihcal_detdeta_hijing[i].SetDirectory(0)\n",
    "\tihcal_detdeta_epos[i].SetDirectory(0)\n",
    "\tihcal_detdeta_ampt[i].SetDirectory(0)\n",
    "\tohcal_detdeta_hijing[i].SetDirectory(0)\n",
    "\tohcal_detdeta_epos[i].SetDirectory(0)\n",
    "\tohcal_detdeta_ampt[i].SetDirectory(0)\n",
    "\tf1.Close()\n",
    "\n",
    "emcal_detdeta_hijing_mean = np.zeros(3)\n",
    "emcal_detdeta_epos_mean = np.zeros(3)\n",
    "emcal_detdeta_ampt_mean = np.zeros(3)\n",
    "ihcal_detdeta_hijing_mean = np.zeros(3)\n",
    "ihcal_detdeta_epos_mean = np.zeros(3)\n",
    "ihcal_detdeta_ampt_mean = np.zeros(3)\n",
    "ohcal_detdeta_hijing_mean = np.zeros(3)\n",
    "ohcal_detdeta_epos_mean = np.zeros(3)\n",
    "ohcal_detdeta_ampt_mean = np.zeros(3)\n",
    "    \n",
    "for i in range(len(cents)):\n",
    "    for j in range(6, 20):\n",
    "        emcal_detdeta_hijing_mean[i] += emcal_detdeta_hijing[i].GetBinContent(j)/14.0\n",
    "        emcal_detdeta_epos_mean[i] += emcal_detdeta_epos[i].GetBinContent(j)/14.0\n",
    "        emcal_detdeta_ampt_mean[i] += emcal_detdeta_ampt[i].GetBinContent(j)/14.0\n",
    "        ihcal_detdeta_hijing_mean[i] += ihcal_detdeta_hijing[i].GetBinContent(j)/14.0\n",
    "        ihcal_detdeta_epos_mean[i] += ihcal_detdeta_epos[i].GetBinContent(j)/14.0\n",
    "        ihcal_detdeta_ampt_mean[i] += ihcal_detdeta_ampt[i].GetBinContent(j)/14.0\n",
    "        ohcal_detdeta_hijing_mean[i] += ohcal_detdeta_hijing[i].GetBinContent(j)/14.0\n",
    "        ohcal_detdeta_epos_mean[i] += ohcal_detdeta_epos[i].GetBinContent(j)/14.0\n",
    "        ohcal_detdeta_ampt_mean[i] += ohcal_detdeta_ampt[i].GetBinContent(j)/14.0\n",
    "\n",
    "for i in range(len(cents)):\n",
    "    print(emcal_detdeta_hijing_mean[i],emcal_detdeta_epos_mean[i],emcal_detdeta_ampt_mean[i],end=' ')\n",
    "    print(ihcal_detdeta_hijing_mean[i],ihcal_detdeta_epos_mean[i],ihcal_detdeta_ampt_mean[i],end=' ')\n",
    "    print(ohcal_detdeta_hijing_mean[i],ohcal_detdeta_epos_mean[i],ohcal_detdeta_ampt_mean[i])\n",
    "\n",
    "emcal_detdeta_hijing_mean = emcal_detdeta_hijing_mean.tolist()\n",
    "emcal_detdeta_epos_mean = emcal_detdeta_epos_mean.tolist()\n",
    "emcal_detdeta_ampt_mean = emcal_detdeta_ampt_mean.tolist()\n",
    "ihcal_detdeta_hijing_mean = ihcal_detdeta_hijing_mean.tolist()\n",
    "ihcal_detdeta_epos_mean = ihcal_detdeta_epos_mean.tolist()\n",
    "ihcal_detdeta_ampt_mean = ihcal_detdeta_ampt_mean.tolist()\n",
    "ohcal_detdeta_hijing_mean = ohcal_detdeta_hijing_mean.tolist()\n",
    "ohcal_detdeta_epos_mean = ohcal_detdeta_epos_mean.tolist()\n",
    "ohcal_detdeta_ampt_mean = ohcal_detdeta_ampt_mean.tolist()\n",
    "print(emcal_detdeta_hijing_mean)\n",
    "eh = array('f', emcal_detdeta_hijing_mean)\n",
    "ih = array('f', ihcal_detdeta_hijing_mean)\n",
    "oh = array('f', ohcal_detdeta_hijing_mean)\n",
    "ee = array('f', emcal_detdeta_epos_mean)\n",
    "ie = array('f', ihcal_detdeta_epos_mean)\n",
    "oe = array('f', ohcal_detdeta_epos_mean)\n",
    "ea = array('f', emcal_detdeta_ampt_mean)\n",
    "ia = array('f', ihcal_detdeta_ampt_mean)\n",
    "oa = array('f', ohcal_detdeta_ampt_mean)\n",
    "print(eh)\n",
    "x = [0,1,2]\n",
    "xarray = array('f', x)\n",
    "\n",
    "arrays = [eh, ih, oh, ee, ie, oe, ea, ia, oa]\n",
    "\n",
    "# Create a canvas\n",
    "canvas = ROOT.TCanvas(\"canvas\", \"Graphs\", 800, 600)\n",
    "\n",
    "# Create and plot TGraphs for each array\n",
    "graphs = []\n",
    "colors = [ROOT.kRed, ROOT.kBlue, ROOT.kGreen, ROOT.kOrange, ROOT.kCyan, ROOT.kMagenta, ROOT.kYellow, ROOT.kBlack, ROOT.kGray]\n",
    "for i, arr in enumerate(arrays):\n",
    "    graphs.append(ROOT.TGraph(3, xarray, arr))\n",
    "    graphs[i].SetMarkerStyle(20)\n",
    "    graphs[i].SetMarkerSize(1)\n",
    "    graphs[i].SetMarkerColor(colors[i])\n",
    "    graphs[i].GetYaxis().SetRangeUser(300,800)\n",
    "    if i == 0:\n",
    "        graphs[i].Draw(\"AP\")\n",
    "    else:\n",
    "        graphs[i].Draw(\"P,same\")\n",
    "\n",
    "# Set the legend\n",
    "legend = ROOT.TLegend(0.7, 0.7, 0.9, 0.9)\n",
    "for i, graph in enumerate(graphs):\n",
    "    legend.AddEntry(graph,leg_tags[i], \"p\")\n",
    "legend.Draw()\n",
    "\n",
    "# Draw the canvas\n",
    "canvas.Draw()"
   ]
  },
  {
   "cell_type": "code",
   "execution_count": null,
   "id": "5ea218a1-5b1e-4212-a1f3-2d478f5c042e",
   "metadata": {},
   "outputs": [],
   "source": []
  }
 ],
 "metadata": {
  "kernelspec": {
   "display_name": "Python (sPHENIX)",
   "language": "python",
   "name": "sphenix-env"
  },
  "language_info": {
   "codemirror_mode": {
    "name": "ipython",
    "version": 3
   },
   "file_extension": ".py",
   "mimetype": "text/x-python",
   "name": "python",
   "nbconvert_exporter": "python",
   "pygments_lexer": "ipython3",
   "version": "3.10.8"
  }
 },
 "nbformat": 4,
 "nbformat_minor": 5
}
