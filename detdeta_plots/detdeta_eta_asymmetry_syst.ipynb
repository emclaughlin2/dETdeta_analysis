{
 "cells": [
  {
   "cell_type": "code",
   "execution_count": 1,
   "id": "37f385e0-d927-48f9-958c-d91b6ae80e46",
   "metadata": {},
   "outputs": [
    {
     "name": "stdout",
     "output_type": "stream",
     "text": [
      "Welcome to JupyROOT 6.26/06\n"
     ]
    }
   ],
   "source": [
    "import ROOT\n",
    "from ROOT import TCanvas, TFile, TProfile, TNtuple, TH1I, TH1F, TH2F, TH3F, TColor, TEfficiency\n",
    "from ROOT import gROOT, gBenchmark, gRandom, gSystem\n",
    "import numpy as np\n",
    "import pdb\n",
    "from array import array"
   ]
  },
  {
   "cell_type": "code",
   "execution_count": 2,
   "id": "b0266dde-707c-413d-bde5-f97201132ee0",
   "metadata": {},
   "outputs": [
    {
     "name": "stdout",
     "output_type": "stream",
     "text": [
      "/direct/sphenix+u/egm2153/spring_2023\n"
     ]
    },
    {
     "data": {
      "text/plain": [
       "0"
      ]
     },
     "execution_count": 2,
     "metadata": {},
     "output_type": "execute_result"
    },
    {
     "name": "stdout",
     "output_type": "stream",
     "text": [
      "sPhenixStyle: Applying nominal settings.\n",
      "sPhenixStyle: ROOT6 mode\n"
     ]
    }
   ],
   "source": [
    "%cd /sphenix/u/egm2153/spring_2023\n",
    "gROOT.LoadMacro(\"sPhenixStyle.C\");\n",
    "gROOT.ProcessLine(\"SetsPhenixStyle()\")"
   ]
  },
  {
   "cell_type": "code",
   "execution_count": 3,
   "id": "31156cee-399a-4585-bddd-7649e72c2b28",
   "metadata": {},
   "outputs": [
    {
     "name": "stdout",
     "output_type": "stream",
     "text": [
      "/gpfs/mnt/gpfs02/sphenix/user/egm2153/calib_study/detdeta/analysis/runs23727_23746\n"
     ]
    }
   ],
   "source": [
    "%cd /sphenix/user/egm2153/calib_study/detdeta/analysis/runs23727_23746"
   ]
  },
  {
   "cell_type": "code",
   "execution_count": 145,
   "id": "90af2cb2-5201-446d-87ee-62bf469b2465",
   "metadata": {},
   "outputs": [],
   "source": [
    "#runs = ['23727','23735','23737','23738','23739','23740','23743','23745']\n",
    "cent = '50-60'\n",
    "lowbound = {'0-5': 400, '5-10':300, '10-20':200, '20-30':100, '30-40':80, '40-50':60, '50-60':30}\n",
    "highbound = {'0-5': 1300, '5-10':1200, '10-20':900, '20-30':700, '30-40':450, '40-50':350, '50-60':150}\n",
    "starmean = {'0-5': 620, '5-10':515, '10-20':402, '20-30':279, '30-40':187, '40-50':118, '50-60':70}\n",
    "phenixmean = {'0-5': 599, '5-10':498.7, '10-20':367.8, '20-30':248.5, '30-40':162.7, '40-50':101.1, '50-60':58.6}\n",
    "staruncert = {'0-5': 33, '5-10':28, '10-20':21, '20-30':15, '30-40':10, '40-50':6, '50-60':4}\n",
    "phenixuncert = {'0-5': 24.7, '5-10':28.9, '10-20':23.1, '20-30':17.5, '30-40':13.5, '40-50':9.8, '50-60':7.4}\n",
    "\n",
    "f1 = ROOT.TFile.Open(\"MC/dETdeta_analysis_allruns_hijing_run14_nozs_mc_reweight_\"+cent+\"_reweight_hijing.root\")\n",
    "h_eT_truth = TH1F(f1.Get(\"hetdeta_ihcalbin\"))\n",
    "h_eT_truth_ihcalbin = TH1F(f1.Get(\"hetdeta_ihcalbin\"))\n",
    "h_eT_truth_ohcalbin = TH1F(f1.Get(\"hetdeta_ohcalbin\"))\n",
    "h_eT_truth_calobin = TH1F(f1.Get(\"hetdeta_calobin\"))\n",
    "h_eT_sim_emcal = TH1F(f1.Get(\"h_eT_emcal\"))\n",
    "h_eT_sim_ihcal = TH1F(f1.Get(\"h_eT_ihcal\"))\n",
    "h_eT_sim_ohcal = TH1F(f1.Get(\"h_eT_ohcal\"))\n",
    "h_eT_sim_calo = TH1F(f1.Get(\"h_eT_calo\"))\n",
    "h_eT_truth.SetDirectory(0)\n",
    "h_eT_truth_ihcalbin.SetDirectory(0)\n",
    "h_eT_truth_ohcalbin.SetDirectory(0)\n",
    "h_eT_truth_calobin.SetDirectory(0)\n",
    "h_eT_sim_emcal.SetDirectory(0)\n",
    "h_eT_sim_ihcal.SetDirectory(0)\n",
    "h_eT_sim_ohcal.SetDirectory(0)\n",
    "h_eT_sim_calo.SetDirectory(0)\n",
    "f1.Close()\n",
    "f2 = ROOT.TFile.Open(\"new_cent_bins/dETdeta_analysis_allruns_HCal_zs_30ADC_EMCal_zs_40ADC_data_noweight_\"+cent+\".root\")\n",
    "h_eT_data_emcal = TH1F(f2.Get(\"h_eT_emcal\"))\n",
    "h_eT_data_ihcal = TH1F(f2.Get(\"h_eT_ihcal\"))\n",
    "h_eT_data_ohcal = TH1F(f2.Get(\"h_eT_ohcal\"))\n",
    "h_eT_data_calo = TH1F(f2.Get(\"h_eT_calo\"))\n",
    "h_eT_data_emcal.SetDirectory(0)\n",
    "h_eT_data_ihcal.SetDirectory(0)\n",
    "h_eT_data_ohcal.SetDirectory(0)\n",
    "h_eT_data_calo.SetDirectory(0)\n",
    "f2.Close()\n",
    "f3 = ROOT.TFile.Open(\"MC/dETdeta_analysis_allruns_p015_nozs_mc_reweight_\"+cent+\"_reweight_epos.root\")\n",
    "h_eT_truth_epos = TH1F(f3.Get(\"hetdeta_ihcalbin\"))\n",
    "h_eT_truth_ihcalbin_epos = TH1F(f3.Get(\"hetdeta_ihcalbin\"))\n",
    "h_eT_truth_ohcalbin_epos = TH1F(f3.Get(\"hetdeta_ohcalbin\"))\n",
    "h_eT_truth_calobin_epos = TH1F(f3.Get(\"hetdeta_calobin\"))\n",
    "h_eT_epos_emcal = TH1F(f3.Get(\"h_eT_emcal\"))\n",
    "h_eT_epos_ihcal = TH1F(f3.Get(\"h_eT_ihcal\"))\n",
    "h_eT_epos_ohcal = TH1F(f3.Get(\"h_eT_ohcal\"))\n",
    "h_eT_epos_calo = TH1F(f3.Get(\"h_eT_calo\"))\n",
    "h_eT_truth_epos.SetDirectory(0)\n",
    "h_eT_truth_ihcalbin_epos.SetDirectory(0)\n",
    "h_eT_truth_ohcalbin_epos.SetDirectory(0)\n",
    "h_eT_truth_calobin_epos.SetDirectory(0)\n",
    "h_eT_epos_emcal.SetDirectory(0)\n",
    "h_eT_epos_ihcal.SetDirectory(0)\n",
    "h_eT_epos_ohcal.SetDirectory(0)\n",
    "h_eT_epos_calo.SetDirectory(0)\n",
    "f3.Close()\n",
    "f4 = ROOT.TFile.Open(\"MC/dETdeta_analysis_allruns_p015_nozs_mc_reweight_\"+cent+\"_reweight_ampt.root\")\n",
    "h_eT_truth_ampt = TH1F(f4.Get(\"hetdeta_ihcalbin\"))\n",
    "h_eT_truth_ihcalbin_ampt = TH1F(f4.Get(\"hetdeta_ihcalbin\"))\n",
    "h_eT_truth_ohcalbin_ampt = TH1F(f4.Get(\"hetdeta_ohcalbin\"))\n",
    "h_eT_truth_calobin_ampt = TH1F(f4.Get(\"hetdeta_calobin\"))\n",
    "h_eT_ampt_emcal = TH1F(f4.Get(\"h_eT_emcal\"))\n",
    "h_eT_ampt_ihcal = TH1F(f4.Get(\"h_eT_ihcal\"))\n",
    "h_eT_ampt_ohcal = TH1F(f4.Get(\"h_eT_ohcal\"))\n",
    "h_eT_ampt_calo = TH1F(f4.Get(\"h_eT_calo\"))\n",
    "h_eT_truth_ampt.SetDirectory(0)\n",
    "h_eT_truth_ihcalbin_ampt.SetDirectory(0)\n",
    "h_eT_truth_ohcalbin_ampt.SetDirectory(0)\n",
    "h_eT_truth_calobin_ampt.SetDirectory(0)\n",
    "h_eT_ampt_emcal.SetDirectory(0)\n",
    "h_eT_ampt_ihcal.SetDirectory(0)\n",
    "h_eT_ampt_ohcal.SetDirectory(0)\n",
    "h_eT_ampt_calo.SetDirectory(0)\n",
    "f4.Close()\n",
    "f5 = ROOT.TFile.Open(\"dETdeta_total_variation_\"+cent+\".root\")\n",
    "emcal_unc = TH1F(f5.Get(\"emcal_detdeta_dev\"))\n",
    "ihcal_unc = TH1F(f5.Get(\"ihcal_detdeta_dev\"))\n",
    "ohcal_unc = TH1F(f5.Get(\"ohcal_detdeta_dev\"))\n",
    "calo_unc = TH1F(f5.Get(\"calo_detdeta_dev\"))\n",
    "emcal_unc.SetDirectory(0)\n",
    "ihcal_unc.SetDirectory(0)\n",
    "ohcal_unc.SetDirectory(0)\n",
    "calo_unc.SetDirectory(0)\n",
    "f5.Close()"
   ]
  },
  {
   "cell_type": "code",
   "execution_count": 146,
   "id": "16ff246c-c5d2-4f10-a990-0babd642a08a",
   "metadata": {},
   "outputs": [
    {
     "data": {
      "text/plain": [
       "True"
      ]
     },
     "execution_count": 146,
     "metadata": {},
     "output_type": "execute_result"
    }
   ],
   "source": [
    "emcal_ratio_hijing = TH1F(h_eT_sim_emcal.Clone(\"emcal_ratio_hijing\"))\n",
    "emcal_ratio_hijing.Divide(h_eT_truth)\n",
    "emcal_detdeta_hijing = TH1F(h_eT_data_emcal.Clone(\"emcal_detdeta_hijing\"))\n",
    "emcal_detdeta_hijing.Divide(emcal_ratio_hijing)\n",
    "emcal_ratio_epos = TH1F(h_eT_epos_emcal.Clone(\"emcal_ratio_epos\"))\n",
    "emcal_ratio_epos.Divide(h_eT_truth_epos)\n",
    "emcal_detdeta_epos = TH1F(h_eT_data_emcal.Clone(\"emcal_detdeta_epos\"))\n",
    "emcal_detdeta_epos.Divide(emcal_ratio_epos)\n",
    "emcal_ratio_ampt = TH1F(h_eT_ampt_emcal.Clone(\"emcal_ratio_ampt\"))\n",
    "emcal_ratio_ampt.Divide(h_eT_truth_ampt)\n",
    "emcal_detdeta_ampt = TH1F(h_eT_data_emcal.Clone(\"emcal_detdeta_ampt\"))\n",
    "emcal_detdeta_ampt.Divide(emcal_ratio_ampt)\n",
    "\n",
    "ihcal_ratio_hijing = TH1F(h_eT_sim_ihcal.Clone(\"ihcal_ratio_hijing\"))\n",
    "ihcal_ratio_hijing.Divide(h_eT_truth_ihcalbin)\n",
    "ihcal_detdeta_hijing = TH1F(h_eT_data_ihcal.Clone(\"ihcal_detdeta_hijing\"))\n",
    "ihcal_detdeta_hijing.Divide(ihcal_ratio_hijing)\n",
    "ihcal_ratio_epos = TH1F(h_eT_epos_ihcal.Clone(\"ihcal_ratio_epos\"))\n",
    "ihcal_ratio_epos.Divide(h_eT_truth_ihcalbin_epos)\n",
    "ihcal_detdeta_epos = TH1F(h_eT_data_ihcal.Clone(\"ihcal_detdeta_epos\"))\n",
    "ihcal_detdeta_epos.Divide(ihcal_ratio_epos)\n",
    "ihcal_ratio_ampt = TH1F(h_eT_ampt_ihcal.Clone(\"ihcal_ratio_ampt\"))\n",
    "ihcal_ratio_ampt.Divide(h_eT_truth_ihcalbin_ampt)\n",
    "ihcal_detdeta_ampt = TH1F(h_eT_data_ihcal.Clone(\"ihcal_detdeta_ampt\"))\n",
    "ihcal_detdeta_ampt.Divide(ihcal_ratio_ampt)\n",
    "\n",
    "ohcal_ratio_hijing = TH1F(h_eT_sim_ohcal.Clone(\"ohcal_ratio_hijing\"))\n",
    "ohcal_ratio_hijing.Divide(h_eT_truth_ohcalbin)\n",
    "ohcal_detdeta_hijing = TH1F(h_eT_data_ohcal.Clone(\"ohcal_detdeta_hijing\"))\n",
    "ohcal_detdeta_hijing.Divide(ohcal_ratio_hijing)\n",
    "ohcal_ratio_epos = TH1F(h_eT_epos_ohcal.Clone(\"ohcal_ratio_epos\"))\n",
    "ohcal_ratio_epos.Divide(h_eT_truth_ohcalbin_epos)\n",
    "ohcal_detdeta_epos = TH1F(h_eT_data_ohcal.Clone(\"ohcal_detdeta_epos\"))\n",
    "ohcal_detdeta_epos.Divide(ohcal_ratio_epos)\n",
    "ohcal_ratio_ampt = TH1F(h_eT_ampt_ohcal.Clone(\"ohcal_ratio_ampt\"))\n",
    "ohcal_ratio_ampt.Divide(h_eT_truth_ohcalbin_ampt)\n",
    "ohcal_detdeta_ampt = TH1F(h_eT_data_ohcal.Clone(\"ohcal_detdeta_ampt\"))\n",
    "ohcal_detdeta_ampt.Divide(ohcal_ratio_ampt)\n",
    "\n",
    "calo_ratio_hijing = TH1F(h_eT_sim_calo.Clone(\"calo_ratio_hijing\"))\n",
    "calo_ratio_hijing.Divide(h_eT_truth_calobin)\n",
    "calo_detdeta_hijing = TH1F(h_eT_data_calo.Clone(\"calo_detdeta_hijing\"))\n",
    "calo_detdeta_hijing.Divide(calo_ratio_hijing)\n",
    "calo_ratio_epos = TH1F(h_eT_epos_calo.Clone(\"calo_ratio_epos\"))\n",
    "calo_ratio_epos.Divide(h_eT_truth_calobin_epos)\n",
    "calo_detdeta_epos = TH1F(h_eT_data_calo.Clone(\"calo_detdeta_epos\"))\n",
    "calo_detdeta_epos.Divide(calo_ratio_epos)\n",
    "calo_ratio_ampt = TH1F(h_eT_ampt_calo.Clone(\"calo_ratio_ampt\"))\n",
    "calo_ratio_ampt.Divide(h_eT_truth_calobin_ampt)\n",
    "calo_detdeta_ampt = TH1F(h_eT_data_calo.Clone(\"calo_detdeta_ampt\"))\n",
    "calo_detdeta_ampt.Divide(calo_ratio_ampt)"
   ]
  },
  {
   "cell_type": "code",
   "execution_count": 147,
   "id": "5485f756-a306-4447-9a2f-5f4833597c38",
   "metadata": {},
   "outputs": [],
   "source": [
    "for i in range(1, 3):\n",
    "    emcal_detdeta_hijing.SetBinContent(i,0)\n",
    "    emcal_detdeta_hijing.SetBinError(i,0)\n",
    "    emcal_detdeta_epos.SetBinContent(i,0)\n",
    "    emcal_detdeta_epos.SetBinError(i,0)\n",
    "    emcal_detdeta_ampt.SetBinContent(i,0)\n",
    "    emcal_detdeta_ampt.SetBinError(i,0)\n",
    "    calo_detdeta_hijing.SetBinContent(i,0)\n",
    "    calo_detdeta_hijing.SetBinError(i,0)\n",
    "    calo_detdeta_epos.SetBinContent(i,0)\n",
    "    calo_detdeta_epos.SetBinError(i,0)\n",
    "    calo_detdeta_ampt.SetBinContent(i,0)\n",
    "    calo_detdeta_ampt.SetBinError(i,0)"
   ]
  },
  {
   "cell_type": "code",
   "execution_count": 148,
   "id": "a995d7a8-7a39-402e-9992-d0d83c026312",
   "metadata": {},
   "outputs": [
    {
     "name": "stdout",
     "output_type": "stream",
     "text": [
      "\n",
      "****************************************\n",
      "Minimizer is Linear / Migrad\n",
      "Chi2                      =      132.319\n",
      "NDf                       =           20\n",
      "p0                        =      67.4141   +/-   0.0581094   \n",
      "p1                        =    -0.842554   +/-   0.0956779   \n"
     ]
    }
   ],
   "source": [
    "emcal_detdeta_dev = emcal_detdeta_hijing.Clone(\"emcal_detdeta_dev\")\n",
    "fit = ROOT.TF1(\"fitFunction\", \"pol1\", -1.1, 1.1)  # Linear function (pol1)\n",
    "fit.SetLineColor(2)\n",
    "emcal_detdeta_hijing.Fit(fit, \"R\")\n",
    "fitResult = emcal_detdeta_hijing.GetFunction(\"fitFunction\")\n",
    "chiSquare = fitResult.GetChisquare()\n",
    "p0 = fit.GetParameter(0)\n",
    "p1 = fit.GetParameter(1)\n",
    "for i in range(1, emcal_detdeta_hijing.GetNbinsX() + 1):\n",
    "    x = emcal_detdeta_hijing.GetXaxis().GetBinCenter(i)\n",
    "    y = p1*x + p0\n",
    "    yn = -p1*x + p0\n",
    "    asym = np.abs((y - yn))/2\n",
    "    emcal_detdeta_dev.SetBinContent(i, asym)"
   ]
  },
  {
   "cell_type": "code",
   "execution_count": 149,
   "id": "696ebf0c-a476-4a31-82be-e8533d7c05b5",
   "metadata": {},
   "outputs": [
    {
     "name": "stdout",
     "output_type": "stream",
     "text": [
      "\n",
      "****************************************\n",
      "Minimizer is Linear / Migrad\n",
      "Chi2                      =      151.189\n",
      "NDf                       =           20\n",
      "p0                        =      67.4783   +/-   0.0584162   \n",
      "p1                        =    -0.700945   +/-   0.095427    \n"
     ]
    }
   ],
   "source": [
    "calo_detdeta_dev = calo_detdeta_hijing.Clone(\"calo_detdeta_dev\")\n",
    "fit = ROOT.TF1(\"fitFunction\", \"pol1\", -1.1, 1.1)  # Linear function (pol1)\n",
    "fit.SetLineColor(2)\n",
    "calo_detdeta_hijing.Fit(fit, \"R\")\n",
    "fitResult = calo_detdeta_hijing.GetFunction(\"fitFunction\")\n",
    "chiSquare = fitResult.GetChisquare()\n",
    "p0 = fit.GetParameter(0)\n",
    "p1 = fit.GetParameter(1)\n",
    "for i in range(1, calo_detdeta_hijing.GetNbinsX() + 1):\n",
    "    x = calo_detdeta_hijing.GetXaxis().GetBinCenter(i)\n",
    "    y = p1*x + p0\n",
    "    yn = -p1*x + p0\n",
    "    asym = np.abs((y - yn))/2\n",
    "    calo_detdeta_dev.SetBinContent(i, asym)   "
   ]
  },
  {
   "cell_type": "code",
   "execution_count": 150,
   "id": "505f4ed5-76ef-4818-9b7a-375e89376c4e",
   "metadata": {},
   "outputs": [
    {
     "name": "stdout",
     "output_type": "stream",
     "text": [
      "\n",
      "****************************************\n",
      "Minimizer is Linear / Migrad\n",
      "Chi2                      =      245.519\n",
      "NDf                       =           18\n",
      "p0                        =      75.2396   +/-   0.103493    \n",
      "p1                        =     -1.72784   +/-   0.181857    \n"
     ]
    }
   ],
   "source": [
    "ihcal_detdeta_dev = ihcal_detdeta_hijing.Clone(\"ihcal_detdeta_dev\")\n",
    "fit = ROOT.TF1(\"fitFunction\", \"pol1\", -0.9, 0.9)  # Linear function (pol1)\n",
    "fit.SetLineColor(2)\n",
    "ihcal_detdeta_hijing.Fit(fit, \"R\")\n",
    "fitResult = ihcal_detdeta_hijing.GetFunction(\"fitFunction\")\n",
    "chiSquare = fitResult.GetChisquare()\n",
    "p0 = fit.GetParameter(0)\n",
    "p1 = fit.GetParameter(1)\n",
    "for i in range(1, ihcal_detdeta_hijing.GetNbinsX() + 1):\n",
    "    x = ihcal_detdeta_hijing.GetXaxis().GetBinCenter(i)\n",
    "    y = p1*x + p0\n",
    "    yn = -p1*x + p0\n",
    "    asym = np.abs((y - yn))/2\n",
    "    ihcal_detdeta_dev.SetBinContent(i, asym)   "
   ]
  },
  {
   "cell_type": "code",
   "execution_count": 151,
   "id": "4b8fe774-889a-4420-995a-540dc68f2814",
   "metadata": {},
   "outputs": [
    {
     "name": "stdout",
     "output_type": "stream",
     "text": [
      "\n",
      "****************************************\n",
      "Minimizer is Linear / Migrad\n",
      "Chi2                      =      157.283\n",
      "NDf                       =           18\n",
      "p0                        =      64.8373   +/-   0.121814    \n",
      "p1                        =      -1.6465   +/-   0.204811    \n"
     ]
    }
   ],
   "source": [
    "ohcal_detdeta_dev = ohcal_detdeta_hijing.Clone(\"ohcal_detdeta_dev\")\n",
    "fit = ROOT.TF1(\"fitFunction\", \"pol1\", -0.9, 0.9)  # Linear function (pol1)\n",
    "fit.SetLineColor(2)\n",
    "ohcal_detdeta_hijing.Fit(fit, \"R\")\n",
    "fitResult = ohcal_detdeta_hijing.GetFunction(\"fitFunction\")\n",
    "chiSquare = fitResult.GetChisquare()\n",
    "p0 = fit.GetParameter(0)\n",
    "p1 = fit.GetParameter(1)\n",
    "for i in range(1, ohcal_detdeta_hijing.GetNbinsX() + 1):\n",
    "    x = ohcal_detdeta_hijing.GetXaxis().GetBinCenter(i)\n",
    "    y = p1*x + p0\n",
    "    yn = -p1*x + p0\n",
    "    asym = np.abs((y - yn))/2\n",
    "    ohcal_detdeta_dev.SetBinContent(i, asym)  "
   ]
  },
  {
   "cell_type": "code",
   "execution_count": 152,
   "id": "24142c3b-5e09-4da0-bca3-d0af8f6a7a2b",
   "metadata": {},
   "outputs": [],
   "source": [
    "outfile = ROOT.TFile.Open('dETdeta_variation_asym_'+cent+'.root',\"RECREATE\")\n",
    "emcal_detdeta_dev.Write()\n",
    "ihcal_detdeta_dev.Write()\n",
    "ohcal_detdeta_dev.Write()\n",
    "calo_detdeta_dev.Write()\n",
    "outfile.Write()\n",
    "outfile.Close()  "
   ]
  },
  {
   "cell_type": "code",
   "execution_count": null,
   "id": "863eec6d-911b-449b-96ca-323d9fa0574f",
   "metadata": {},
   "outputs": [],
   "source": []
  },
  {
   "cell_type": "code",
   "execution_count": null,
   "id": "f3761357-49c5-46e0-a2c7-82f24712c557",
   "metadata": {},
   "outputs": [],
   "source": []
  },
  {
   "cell_type": "code",
   "execution_count": null,
   "id": "7810e03f-dc70-457d-b378-39034dd3824f",
   "metadata": {},
   "outputs": [],
   "source": []
  },
  {
   "cell_type": "code",
   "execution_count": null,
   "id": "d600500a-2a70-4921-8f47-a0b7dee2d8ac",
   "metadata": {},
   "outputs": [],
   "source": []
  },
  {
   "cell_type": "code",
   "execution_count": null,
   "id": "455ea3d5-0b53-4e34-9691-c96c176ab3af",
   "metadata": {},
   "outputs": [],
   "source": []
  },
  {
   "cell_type": "code",
   "execution_count": null,
   "id": "c8dc0d54-78e2-42c8-aa2d-885ce3bcab25",
   "metadata": {},
   "outputs": [],
   "source": []
  },
  {
   "cell_type": "code",
   "execution_count": null,
   "id": "d8805f04-f3e0-4245-8263-d92026ae7dc2",
   "metadata": {},
   "outputs": [],
   "source": []
  },
  {
   "cell_type": "code",
   "execution_count": null,
   "id": "fc9de65a-23e8-4fc7-b248-5a162aa303ad",
   "metadata": {},
   "outputs": [],
   "source": []
  },
  {
   "cell_type": "code",
   "execution_count": null,
   "id": "245d2dbb-ba4d-441f-b25d-6160322ad6c2",
   "metadata": {},
   "outputs": [],
   "source": []
  },
  {
   "cell_type": "code",
   "execution_count": null,
   "id": "a753238a-2d6f-46d0-b6c8-bdefbc2f6427",
   "metadata": {},
   "outputs": [],
   "source": []
  },
  {
   "cell_type": "code",
   "execution_count": null,
   "id": "a6c24113-455a-4cc0-931b-49b8c479b06f",
   "metadata": {},
   "outputs": [],
   "source": []
  },
  {
   "cell_type": "code",
   "execution_count": null,
   "id": "39bbc120-46e3-4843-8f14-6b00e95e9347",
   "metadata": {},
   "outputs": [],
   "source": []
  },
  {
   "cell_type": "code",
   "execution_count": null,
   "id": "18cc99d4-d757-4179-b890-71d8d793e4e3",
   "metadata": {},
   "outputs": [],
   "source": []
  },
  {
   "cell_type": "code",
   "execution_count": null,
   "id": "48f887ce-e961-4199-a0e6-063a50f260d8",
   "metadata": {},
   "outputs": [],
   "source": []
  },
  {
   "cell_type": "code",
   "execution_count": null,
   "id": "30bc269a-f850-4f76-9f18-c5c473622bfe",
   "metadata": {},
   "outputs": [],
   "source": []
  },
  {
   "cell_type": "code",
   "execution_count": null,
   "id": "797153d2-a73a-424e-b9c4-e6249d0317ce",
   "metadata": {},
   "outputs": [],
   "source": []
  },
  {
   "cell_type": "code",
   "execution_count": null,
   "id": "f2a92959-84c2-4b72-b252-8d7e5f68f504",
   "metadata": {},
   "outputs": [],
   "source": []
  },
  {
   "cell_type": "code",
   "execution_count": null,
   "id": "467e3571-62f7-40b7-af5b-e93641329fcd",
   "metadata": {},
   "outputs": [],
   "source": []
  },
  {
   "cell_type": "code",
   "execution_count": null,
   "id": "72edc58e-8f41-4776-88a3-186779f5f76f",
   "metadata": {},
   "outputs": [],
   "source": []
  },
  {
   "cell_type": "code",
   "execution_count": null,
   "id": "21a05a03-4223-4be7-81d2-1f6f440c6cf8",
   "metadata": {},
   "outputs": [],
   "source": []
  },
  {
   "cell_type": "code",
   "execution_count": null,
   "id": "2aeda74d-709e-43c0-a23c-927b02f7ae55",
   "metadata": {},
   "outputs": [],
   "source": []
  },
  {
   "cell_type": "code",
   "execution_count": null,
   "id": "7bed9cb0-c9fe-4aa3-89f2-50dcb8748929",
   "metadata": {},
   "outputs": [],
   "source": []
  }
 ],
 "metadata": {
  "kernelspec": {
   "display_name": "Python (sPHENIX)",
   "language": "python",
   "name": "sphenix-env"
  },
  "language_info": {
   "codemirror_mode": {
    "name": "ipython",
    "version": 3
   },
   "file_extension": ".py",
   "mimetype": "text/x-python",
   "name": "python",
   "nbconvert_exporter": "python",
   "pygments_lexer": "ipython3",
   "version": "3.10.8"
  }
 },
 "nbformat": 4,
 "nbformat_minor": 5
}
